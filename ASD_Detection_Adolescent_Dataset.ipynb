{
  "cells": [
    {
      "cell_type": "code",
      "execution_count": null,
      "metadata": {
        "id": "tb7Si0gHRg8g"
      },
      "outputs": [],
      "source": [
        "import pandas as pd\n",
        "import numpy as np\n",
        "import matplotlib.pyplot as plt\n",
        "import seaborn as sns\n",
        "\n",
        "import warnings\n",
        "warnings.filterwarnings('ignore')"
      ]
    },
    {
      "cell_type": "code",
      "execution_count": null,
      "metadata": {
        "colab": {
          "base_uri": "https://localhost:8080/"
        },
        "id": "QCyese9QzeXm",
        "outputId": "bc0c33e1-c4a5-4b78-d5a0-5e7de23ef6d9"
      },
      "outputs": [
        {
          "output_type": "stream",
          "name": "stdout",
          "text": [
            "Mounted at /content/drive\n"
          ]
        }
      ],
      "source": [
        "from google.colab import drive\n",
        "drive.mount('/content/drive')"
      ]
    },
    {
      "cell_type": "code",
      "execution_count": null,
      "metadata": {
        "id": "rbucy4WCzma2"
      },
      "outputs": [],
      "source": [
        "dt_f = pd.read_csv('/content/drive/My Drive/Dataset/Adult-Adolescents-Child Datasets/Autism-Adolescent-Data.csv')"
      ]
    },
    {
      "cell_type": "code",
      "execution_count": null,
      "metadata": {
        "colab": {
          "base_uri": "https://localhost:8080/",
          "height": 661
        },
        "id": "ZUE5kJLk0mzv",
        "outputId": "6d83f449-1b8d-42df-b90e-734585d1ae85"
      },
      "outputs": [
        {
          "output_type": "execute_result",
          "data": {
            "text/plain": [
              "      id  A1_Score  A2_Score  A3_Score  A4_Score  A5_Score  A6_Score  \\\n",
              "0      1         0         0         0         1         1         1   \n",
              "1      2         0         0         0         0         0         0   \n",
              "2      3         0         0         0         0         0         0   \n",
              "3      4         0         1         1         1         1         1   \n",
              "4      5         1         1         1         1         1         1   \n",
              "..   ...       ...       ...       ...       ...       ...       ...   \n",
              "99   100         0         1         1         1         0         1   \n",
              "100  101         1         0         1         0         0         0   \n",
              "101  102         1         0         0         1         1         1   \n",
              "102  103         1         1         0         1         1         0   \n",
              "103  104         1         0         1         0         0         1   \n",
              "\n",
              "     A7_Score  A8_Score  A9_Score  ...  gender        ethnicity jundice  \\\n",
              "0           1         1         1  ...       m         Hispanic     yes   \n",
              "1           0         0         1  ...       m            Black      no   \n",
              "2           0         0         1  ...       f                ?      no   \n",
              "3           0         1         1  ...       f   White-European      no   \n",
              "4           1         0         0  ...       f                ?      no   \n",
              "..        ...       ...       ...  ...     ...              ...     ...   \n",
              "99          1         0         1  ...       f  Middle Eastern       no   \n",
              "100         0         1         0  ...       m            Asian      no   \n",
              "101         1         1         1  ...       f   White-European      no   \n",
              "102         0         0         1  ...       f   White-European      no   \n",
              "103         1         1         1  ...       m            Asian      no   \n",
              "\n",
              "    austim   contry_of_res used_app_before result     age_desc  relation  \\\n",
              "0      yes         Austria              no      6  12-16 years    Parent   \n",
              "1       no         Austria              no      2  12-16 years  Relative   \n",
              "2       no   AmericanSamoa              no      2  12-16 years         ?   \n",
              "3       no  United Kingdom              no      7  12-16 years      Self   \n",
              "4       no         Albania              no      7  12-16 years         ?   \n",
              "..     ...             ...             ...    ...          ...       ...   \n",
              "99      no        Anguilla             yes      6  12-15 years    Parent   \n",
              "100     no           India              no      4  12-15 years    Parent   \n",
              "101     no  United Kingdom              no      8  12-16 years      Self   \n",
              "102     no  United Kingdom              no      6  12-16 years      Self   \n",
              "103     no           India              no      6  12-16 years    Parent   \n",
              "\n",
              "    Class/ASD  \n",
              "0          NO  \n",
              "1          NO  \n",
              "2          NO  \n",
              "3         YES  \n",
              "4         YES  \n",
              "..        ...  \n",
              "99         NO  \n",
              "100        NO  \n",
              "101       YES  \n",
              "102        NO  \n",
              "103        NO  \n",
              "\n",
              "[104 rows x 22 columns]"
            ],
            "text/html": [
              "\n",
              "  <div id=\"df-4eabe1cf-aa32-4aaf-bbdf-96cdc10f892d\">\n",
              "    <div class=\"colab-df-container\">\n",
              "      <div>\n",
              "<style scoped>\n",
              "    .dataframe tbody tr th:only-of-type {\n",
              "        vertical-align: middle;\n",
              "    }\n",
              "\n",
              "    .dataframe tbody tr th {\n",
              "        vertical-align: top;\n",
              "    }\n",
              "\n",
              "    .dataframe thead th {\n",
              "        text-align: right;\n",
              "    }\n",
              "</style>\n",
              "<table border=\"1\" class=\"dataframe\">\n",
              "  <thead>\n",
              "    <tr style=\"text-align: right;\">\n",
              "      <th></th>\n",
              "      <th>id</th>\n",
              "      <th>A1_Score</th>\n",
              "      <th>A2_Score</th>\n",
              "      <th>A3_Score</th>\n",
              "      <th>A4_Score</th>\n",
              "      <th>A5_Score</th>\n",
              "      <th>A6_Score</th>\n",
              "      <th>A7_Score</th>\n",
              "      <th>A8_Score</th>\n",
              "      <th>A9_Score</th>\n",
              "      <th>...</th>\n",
              "      <th>gender</th>\n",
              "      <th>ethnicity</th>\n",
              "      <th>jundice</th>\n",
              "      <th>austim</th>\n",
              "      <th>contry_of_res</th>\n",
              "      <th>used_app_before</th>\n",
              "      <th>result</th>\n",
              "      <th>age_desc</th>\n",
              "      <th>relation</th>\n",
              "      <th>Class/ASD</th>\n",
              "    </tr>\n",
              "  </thead>\n",
              "  <tbody>\n",
              "    <tr>\n",
              "      <th>0</th>\n",
              "      <td>1</td>\n",
              "      <td>0</td>\n",
              "      <td>0</td>\n",
              "      <td>0</td>\n",
              "      <td>1</td>\n",
              "      <td>1</td>\n",
              "      <td>1</td>\n",
              "      <td>1</td>\n",
              "      <td>1</td>\n",
              "      <td>1</td>\n",
              "      <td>...</td>\n",
              "      <td>m</td>\n",
              "      <td>Hispanic</td>\n",
              "      <td>yes</td>\n",
              "      <td>yes</td>\n",
              "      <td>Austria</td>\n",
              "      <td>no</td>\n",
              "      <td>6</td>\n",
              "      <td>12-16 years</td>\n",
              "      <td>Parent</td>\n",
              "      <td>NO</td>\n",
              "    </tr>\n",
              "    <tr>\n",
              "      <th>1</th>\n",
              "      <td>2</td>\n",
              "      <td>0</td>\n",
              "      <td>0</td>\n",
              "      <td>0</td>\n",
              "      <td>0</td>\n",
              "      <td>0</td>\n",
              "      <td>0</td>\n",
              "      <td>0</td>\n",
              "      <td>0</td>\n",
              "      <td>1</td>\n",
              "      <td>...</td>\n",
              "      <td>m</td>\n",
              "      <td>Black</td>\n",
              "      <td>no</td>\n",
              "      <td>no</td>\n",
              "      <td>Austria</td>\n",
              "      <td>no</td>\n",
              "      <td>2</td>\n",
              "      <td>12-16 years</td>\n",
              "      <td>Relative</td>\n",
              "      <td>NO</td>\n",
              "    </tr>\n",
              "    <tr>\n",
              "      <th>2</th>\n",
              "      <td>3</td>\n",
              "      <td>0</td>\n",
              "      <td>0</td>\n",
              "      <td>0</td>\n",
              "      <td>0</td>\n",
              "      <td>0</td>\n",
              "      <td>0</td>\n",
              "      <td>0</td>\n",
              "      <td>0</td>\n",
              "      <td>1</td>\n",
              "      <td>...</td>\n",
              "      <td>f</td>\n",
              "      <td>?</td>\n",
              "      <td>no</td>\n",
              "      <td>no</td>\n",
              "      <td>AmericanSamoa</td>\n",
              "      <td>no</td>\n",
              "      <td>2</td>\n",
              "      <td>12-16 years</td>\n",
              "      <td>?</td>\n",
              "      <td>NO</td>\n",
              "    </tr>\n",
              "    <tr>\n",
              "      <th>3</th>\n",
              "      <td>4</td>\n",
              "      <td>0</td>\n",
              "      <td>1</td>\n",
              "      <td>1</td>\n",
              "      <td>1</td>\n",
              "      <td>1</td>\n",
              "      <td>1</td>\n",
              "      <td>0</td>\n",
              "      <td>1</td>\n",
              "      <td>1</td>\n",
              "      <td>...</td>\n",
              "      <td>f</td>\n",
              "      <td>White-European</td>\n",
              "      <td>no</td>\n",
              "      <td>no</td>\n",
              "      <td>United Kingdom</td>\n",
              "      <td>no</td>\n",
              "      <td>7</td>\n",
              "      <td>12-16 years</td>\n",
              "      <td>Self</td>\n",
              "      <td>YES</td>\n",
              "    </tr>\n",
              "    <tr>\n",
              "      <th>4</th>\n",
              "      <td>5</td>\n",
              "      <td>1</td>\n",
              "      <td>1</td>\n",
              "      <td>1</td>\n",
              "      <td>1</td>\n",
              "      <td>1</td>\n",
              "      <td>1</td>\n",
              "      <td>1</td>\n",
              "      <td>0</td>\n",
              "      <td>0</td>\n",
              "      <td>...</td>\n",
              "      <td>f</td>\n",
              "      <td>?</td>\n",
              "      <td>no</td>\n",
              "      <td>no</td>\n",
              "      <td>Albania</td>\n",
              "      <td>no</td>\n",
              "      <td>7</td>\n",
              "      <td>12-16 years</td>\n",
              "      <td>?</td>\n",
              "      <td>YES</td>\n",
              "    </tr>\n",
              "    <tr>\n",
              "      <th>...</th>\n",
              "      <td>...</td>\n",
              "      <td>...</td>\n",
              "      <td>...</td>\n",
              "      <td>...</td>\n",
              "      <td>...</td>\n",
              "      <td>...</td>\n",
              "      <td>...</td>\n",
              "      <td>...</td>\n",
              "      <td>...</td>\n",
              "      <td>...</td>\n",
              "      <td>...</td>\n",
              "      <td>...</td>\n",
              "      <td>...</td>\n",
              "      <td>...</td>\n",
              "      <td>...</td>\n",
              "      <td>...</td>\n",
              "      <td>...</td>\n",
              "      <td>...</td>\n",
              "      <td>...</td>\n",
              "      <td>...</td>\n",
              "      <td>...</td>\n",
              "    </tr>\n",
              "    <tr>\n",
              "      <th>99</th>\n",
              "      <td>100</td>\n",
              "      <td>0</td>\n",
              "      <td>1</td>\n",
              "      <td>1</td>\n",
              "      <td>1</td>\n",
              "      <td>0</td>\n",
              "      <td>1</td>\n",
              "      <td>1</td>\n",
              "      <td>0</td>\n",
              "      <td>1</td>\n",
              "      <td>...</td>\n",
              "      <td>f</td>\n",
              "      <td>Middle Eastern</td>\n",
              "      <td>no</td>\n",
              "      <td>no</td>\n",
              "      <td>Anguilla</td>\n",
              "      <td>yes</td>\n",
              "      <td>6</td>\n",
              "      <td>12-15 years</td>\n",
              "      <td>Parent</td>\n",
              "      <td>NO</td>\n",
              "    </tr>\n",
              "    <tr>\n",
              "      <th>100</th>\n",
              "      <td>101</td>\n",
              "      <td>1</td>\n",
              "      <td>0</td>\n",
              "      <td>1</td>\n",
              "      <td>0</td>\n",
              "      <td>0</td>\n",
              "      <td>0</td>\n",
              "      <td>0</td>\n",
              "      <td>1</td>\n",
              "      <td>0</td>\n",
              "      <td>...</td>\n",
              "      <td>m</td>\n",
              "      <td>Asian</td>\n",
              "      <td>no</td>\n",
              "      <td>no</td>\n",
              "      <td>India</td>\n",
              "      <td>no</td>\n",
              "      <td>4</td>\n",
              "      <td>12-15 years</td>\n",
              "      <td>Parent</td>\n",
              "      <td>NO</td>\n",
              "    </tr>\n",
              "    <tr>\n",
              "      <th>101</th>\n",
              "      <td>102</td>\n",
              "      <td>1</td>\n",
              "      <td>0</td>\n",
              "      <td>0</td>\n",
              "      <td>1</td>\n",
              "      <td>1</td>\n",
              "      <td>1</td>\n",
              "      <td>1</td>\n",
              "      <td>1</td>\n",
              "      <td>1</td>\n",
              "      <td>...</td>\n",
              "      <td>f</td>\n",
              "      <td>White-European</td>\n",
              "      <td>no</td>\n",
              "      <td>no</td>\n",
              "      <td>United Kingdom</td>\n",
              "      <td>no</td>\n",
              "      <td>8</td>\n",
              "      <td>12-16 years</td>\n",
              "      <td>Self</td>\n",
              "      <td>YES</td>\n",
              "    </tr>\n",
              "    <tr>\n",
              "      <th>102</th>\n",
              "      <td>103</td>\n",
              "      <td>1</td>\n",
              "      <td>1</td>\n",
              "      <td>0</td>\n",
              "      <td>1</td>\n",
              "      <td>1</td>\n",
              "      <td>0</td>\n",
              "      <td>0</td>\n",
              "      <td>0</td>\n",
              "      <td>1</td>\n",
              "      <td>...</td>\n",
              "      <td>f</td>\n",
              "      <td>White-European</td>\n",
              "      <td>no</td>\n",
              "      <td>no</td>\n",
              "      <td>United Kingdom</td>\n",
              "      <td>no</td>\n",
              "      <td>6</td>\n",
              "      <td>12-16 years</td>\n",
              "      <td>Self</td>\n",
              "      <td>NO</td>\n",
              "    </tr>\n",
              "    <tr>\n",
              "      <th>103</th>\n",
              "      <td>104</td>\n",
              "      <td>1</td>\n",
              "      <td>0</td>\n",
              "      <td>1</td>\n",
              "      <td>0</td>\n",
              "      <td>0</td>\n",
              "      <td>1</td>\n",
              "      <td>1</td>\n",
              "      <td>1</td>\n",
              "      <td>1</td>\n",
              "      <td>...</td>\n",
              "      <td>m</td>\n",
              "      <td>Asian</td>\n",
              "      <td>no</td>\n",
              "      <td>no</td>\n",
              "      <td>India</td>\n",
              "      <td>no</td>\n",
              "      <td>6</td>\n",
              "      <td>12-16 years</td>\n",
              "      <td>Parent</td>\n",
              "      <td>NO</td>\n",
              "    </tr>\n",
              "  </tbody>\n",
              "</table>\n",
              "<p>104 rows × 22 columns</p>\n",
              "</div>\n",
              "      <button class=\"colab-df-convert\" onclick=\"convertToInteractive('df-4eabe1cf-aa32-4aaf-bbdf-96cdc10f892d')\"\n",
              "              title=\"Convert this dataframe to an interactive table.\"\n",
              "              style=\"display:none;\">\n",
              "        \n",
              "  <svg xmlns=\"http://www.w3.org/2000/svg\" height=\"24px\"viewBox=\"0 0 24 24\"\n",
              "       width=\"24px\">\n",
              "    <path d=\"M0 0h24v24H0V0z\" fill=\"none\"/>\n",
              "    <path d=\"M18.56 5.44l.94 2.06.94-2.06 2.06-.94-2.06-.94-.94-2.06-.94 2.06-2.06.94zm-11 1L8.5 8.5l.94-2.06 2.06-.94-2.06-.94L8.5 2.5l-.94 2.06-2.06.94zm10 10l.94 2.06.94-2.06 2.06-.94-2.06-.94-.94-2.06-.94 2.06-2.06.94z\"/><path d=\"M17.41 7.96l-1.37-1.37c-.4-.4-.92-.59-1.43-.59-.52 0-1.04.2-1.43.59L10.3 9.45l-7.72 7.72c-.78.78-.78 2.05 0 2.83L4 21.41c.39.39.9.59 1.41.59.51 0 1.02-.2 1.41-.59l7.78-7.78 2.81-2.81c.8-.78.8-2.07 0-2.86zM5.41 20L4 18.59l7.72-7.72 1.47 1.35L5.41 20z\"/>\n",
              "  </svg>\n",
              "      </button>\n",
              "      \n",
              "  <style>\n",
              "    .colab-df-container {\n",
              "      display:flex;\n",
              "      flex-wrap:wrap;\n",
              "      gap: 12px;\n",
              "    }\n",
              "\n",
              "    .colab-df-convert {\n",
              "      background-color: #E8F0FE;\n",
              "      border: none;\n",
              "      border-radius: 50%;\n",
              "      cursor: pointer;\n",
              "      display: none;\n",
              "      fill: #1967D2;\n",
              "      height: 32px;\n",
              "      padding: 0 0 0 0;\n",
              "      width: 32px;\n",
              "    }\n",
              "\n",
              "    .colab-df-convert:hover {\n",
              "      background-color: #E2EBFA;\n",
              "      box-shadow: 0px 1px 2px rgba(60, 64, 67, 0.3), 0px 1px 3px 1px rgba(60, 64, 67, 0.15);\n",
              "      fill: #174EA6;\n",
              "    }\n",
              "\n",
              "    [theme=dark] .colab-df-convert {\n",
              "      background-color: #3B4455;\n",
              "      fill: #D2E3FC;\n",
              "    }\n",
              "\n",
              "    [theme=dark] .colab-df-convert:hover {\n",
              "      background-color: #434B5C;\n",
              "      box-shadow: 0px 1px 3px 1px rgba(0, 0, 0, 0.15);\n",
              "      filter: drop-shadow(0px 1px 2px rgba(0, 0, 0, 0.3));\n",
              "      fill: #FFFFFF;\n",
              "    }\n",
              "  </style>\n",
              "\n",
              "      <script>\n",
              "        const buttonEl =\n",
              "          document.querySelector('#df-4eabe1cf-aa32-4aaf-bbdf-96cdc10f892d button.colab-df-convert');\n",
              "        buttonEl.style.display =\n",
              "          google.colab.kernel.accessAllowed ? 'block' : 'none';\n",
              "\n",
              "        async function convertToInteractive(key) {\n",
              "          const element = document.querySelector('#df-4eabe1cf-aa32-4aaf-bbdf-96cdc10f892d');\n",
              "          const dataTable =\n",
              "            await google.colab.kernel.invokeFunction('convertToInteractive',\n",
              "                                                     [key], {});\n",
              "          if (!dataTable) return;\n",
              "\n",
              "          const docLinkHtml = 'Like what you see? Visit the ' +\n",
              "            '<a target=\"_blank\" href=https://colab.research.google.com/notebooks/data_table.ipynb>data table notebook</a>'\n",
              "            + ' to learn more about interactive tables.';\n",
              "          element.innerHTML = '';\n",
              "          dataTable['output_type'] = 'display_data';\n",
              "          await google.colab.output.renderOutput(dataTable, element);\n",
              "          const docLink = document.createElement('div');\n",
              "          docLink.innerHTML = docLinkHtml;\n",
              "          element.appendChild(docLink);\n",
              "        }\n",
              "      </script>\n",
              "    </div>\n",
              "  </div>\n",
              "  "
            ]
          },
          "metadata": {},
          "execution_count": 4
        }
      ],
      "source": [
        "dt_f"
      ]
    },
    {
      "cell_type": "code",
      "execution_count": null,
      "metadata": {
        "colab": {
          "base_uri": "https://localhost:8080/"
        },
        "id": "uHkC8y8ClC_G",
        "outputId": "0b1c2747-0f68-42d3-97c6-b0bf8f29b93d"
      },
      "outputs": [
        {
          "output_type": "stream",
          "name": "stdout",
          "text": [
            "<class 'pandas.core.frame.DataFrame'>\n",
            "RangeIndex: 104 entries, 0 to 103\n",
            "Data columns (total 22 columns):\n",
            " #   Column           Non-Null Count  Dtype \n",
            "---  ------           --------------  ----- \n",
            " 0   id               104 non-null    int64 \n",
            " 1   A1_Score         104 non-null    int64 \n",
            " 2   A2_Score         104 non-null    int64 \n",
            " 3   A3_Score         104 non-null    int64 \n",
            " 4   A4_Score         104 non-null    int64 \n",
            " 5   A5_Score         104 non-null    int64 \n",
            " 6   A6_Score         104 non-null    int64 \n",
            " 7   A7_Score         104 non-null    int64 \n",
            " 8   A8_Score         104 non-null    int64 \n",
            " 9   A9_Score         104 non-null    int64 \n",
            " 10  A10_Score        104 non-null    int64 \n",
            " 11  age              104 non-null    int64 \n",
            " 12  gender           104 non-null    object\n",
            " 13  ethnicity        104 non-null    object\n",
            " 14  jundice          104 non-null    object\n",
            " 15  austim           104 non-null    object\n",
            " 16  contry_of_res    104 non-null    object\n",
            " 17  used_app_before  104 non-null    object\n",
            " 18  result           104 non-null    int64 \n",
            " 19  age_desc         104 non-null    object\n",
            " 20  relation         104 non-null    object\n",
            " 21  Class/ASD        104 non-null    object\n",
            "dtypes: int64(13), object(9)\n",
            "memory usage: 18.0+ KB\n"
          ]
        }
      ],
      "source": [
        "dt_f.info()"
      ]
    },
    {
      "cell_type": "code",
      "execution_count": null,
      "metadata": {
        "colab": {
          "base_uri": "https://localhost:8080/"
        },
        "id": "ZxLMAfnX1BV9",
        "outputId": "d7a2cb02-afac-428c-cecd-bdcaf8f10ce5"
      },
      "outputs": [
        {
          "output_type": "execute_result",
          "data": {
            "text/plain": [
              "id                  int64\n",
              "A1_Score            int64\n",
              "A2_Score            int64\n",
              "A3_Score            int64\n",
              "A4_Score            int64\n",
              "A5_Score            int64\n",
              "A6_Score            int64\n",
              "A7_Score            int64\n",
              "A8_Score            int64\n",
              "A9_Score            int64\n",
              "A10_Score           int64\n",
              "age                 int64\n",
              "gender             object\n",
              "ethnicity          object\n",
              "jundice            object\n",
              "austim             object\n",
              "contry_of_res      object\n",
              "used_app_before    object\n",
              "result              int64\n",
              "age_desc           object\n",
              "relation           object\n",
              "Class/ASD          object\n",
              "dtype: object"
            ]
          },
          "metadata": {},
          "execution_count": 6
        }
      ],
      "source": [
        "dt_f.dtypes"
      ]
    },
    {
      "cell_type": "code",
      "execution_count": null,
      "metadata": {
        "colab": {
          "base_uri": "https://localhost:8080/",
          "height": 630
        },
        "id": "7c3246Az1FVM",
        "outputId": "9f9f5f40-6dde-42ed-9770-4ce61a517e6b"
      },
      "outputs": [
        {
          "output_type": "execute_result",
          "data": {
            "text/plain": [
              "   id  A1_Score  A2_Score  A3_Score  A4_Score  A5_Score  A6_Score  A7_Score  \\\n",
              "0   1         0         0         0         1         1         1         1   \n",
              "1   2         0         0         0         0         0         0         0   \n",
              "2   3         0         0         0         0         0         0         0   \n",
              "3   4         0         1         1         1         1         1         0   \n",
              "4   5         1         1         1         1         1         1         1   \n",
              "5   6         1         0         0         0         0         1         0   \n",
              "6   7         0         0         0         1         1         1         1   \n",
              "7   8         1         1         0         1         1         0         1   \n",
              "8   9         1         1         1         1         1         1         0   \n",
              "9  10         0         1         1         0         0         1         0   \n",
              "\n",
              "   A8_Score  A9_Score  ...  gender        ethnicity jundice austim  \\\n",
              "0         1         1  ...       m         Hispanic     yes    yes   \n",
              "1         0         1  ...       m            Black      no     no   \n",
              "2         0         1  ...       f                ?      no     no   \n",
              "3         1         1  ...       f   White-European      no     no   \n",
              "4         0         0  ...       f                ?      no     no   \n",
              "5         0         1  ...       f                ?      no     no   \n",
              "6         1         1  ...       f                ?      no     no   \n",
              "7         1         0  ...       f  Middle Eastern       no     no   \n",
              "8         0         0  ...       m            Black     yes    yes   \n",
              "9         0         1  ...       f      South Asian      no     no   \n",
              "\n",
              "    contry_of_res used_app_before result     age_desc  relation Class/ASD  \n",
              "0         Austria              no      6  12-16 years    Parent        NO  \n",
              "1         Austria              no      2  12-16 years  Relative        NO  \n",
              "2   AmericanSamoa              no      2  12-16 years         ?        NO  \n",
              "3  United Kingdom              no      7  12-16 years      Self       YES  \n",
              "4         Albania              no      7  12-16 years         ?       YES  \n",
              "5         Belgium              no      3  12-16 years         ?        NO  \n",
              "6     Afghanistan              no      6  12-16 years         ?        NO  \n",
              "7       Australia              no      7  12-16 years    Parent       YES  \n",
              "8         Bahrain              no      6  12-16 years    Parent        NO  \n",
              "9      Azerbaijan              no      4  12-16 years    Parent        NO  \n",
              "\n",
              "[10 rows x 22 columns]"
            ],
            "text/html": [
              "\n",
              "  <div id=\"df-86c83327-ac82-4c7b-bece-a34e36b3ac00\">\n",
              "    <div class=\"colab-df-container\">\n",
              "      <div>\n",
              "<style scoped>\n",
              "    .dataframe tbody tr th:only-of-type {\n",
              "        vertical-align: middle;\n",
              "    }\n",
              "\n",
              "    .dataframe tbody tr th {\n",
              "        vertical-align: top;\n",
              "    }\n",
              "\n",
              "    .dataframe thead th {\n",
              "        text-align: right;\n",
              "    }\n",
              "</style>\n",
              "<table border=\"1\" class=\"dataframe\">\n",
              "  <thead>\n",
              "    <tr style=\"text-align: right;\">\n",
              "      <th></th>\n",
              "      <th>id</th>\n",
              "      <th>A1_Score</th>\n",
              "      <th>A2_Score</th>\n",
              "      <th>A3_Score</th>\n",
              "      <th>A4_Score</th>\n",
              "      <th>A5_Score</th>\n",
              "      <th>A6_Score</th>\n",
              "      <th>A7_Score</th>\n",
              "      <th>A8_Score</th>\n",
              "      <th>A9_Score</th>\n",
              "      <th>...</th>\n",
              "      <th>gender</th>\n",
              "      <th>ethnicity</th>\n",
              "      <th>jundice</th>\n",
              "      <th>austim</th>\n",
              "      <th>contry_of_res</th>\n",
              "      <th>used_app_before</th>\n",
              "      <th>result</th>\n",
              "      <th>age_desc</th>\n",
              "      <th>relation</th>\n",
              "      <th>Class/ASD</th>\n",
              "    </tr>\n",
              "  </thead>\n",
              "  <tbody>\n",
              "    <tr>\n",
              "      <th>0</th>\n",
              "      <td>1</td>\n",
              "      <td>0</td>\n",
              "      <td>0</td>\n",
              "      <td>0</td>\n",
              "      <td>1</td>\n",
              "      <td>1</td>\n",
              "      <td>1</td>\n",
              "      <td>1</td>\n",
              "      <td>1</td>\n",
              "      <td>1</td>\n",
              "      <td>...</td>\n",
              "      <td>m</td>\n",
              "      <td>Hispanic</td>\n",
              "      <td>yes</td>\n",
              "      <td>yes</td>\n",
              "      <td>Austria</td>\n",
              "      <td>no</td>\n",
              "      <td>6</td>\n",
              "      <td>12-16 years</td>\n",
              "      <td>Parent</td>\n",
              "      <td>NO</td>\n",
              "    </tr>\n",
              "    <tr>\n",
              "      <th>1</th>\n",
              "      <td>2</td>\n",
              "      <td>0</td>\n",
              "      <td>0</td>\n",
              "      <td>0</td>\n",
              "      <td>0</td>\n",
              "      <td>0</td>\n",
              "      <td>0</td>\n",
              "      <td>0</td>\n",
              "      <td>0</td>\n",
              "      <td>1</td>\n",
              "      <td>...</td>\n",
              "      <td>m</td>\n",
              "      <td>Black</td>\n",
              "      <td>no</td>\n",
              "      <td>no</td>\n",
              "      <td>Austria</td>\n",
              "      <td>no</td>\n",
              "      <td>2</td>\n",
              "      <td>12-16 years</td>\n",
              "      <td>Relative</td>\n",
              "      <td>NO</td>\n",
              "    </tr>\n",
              "    <tr>\n",
              "      <th>2</th>\n",
              "      <td>3</td>\n",
              "      <td>0</td>\n",
              "      <td>0</td>\n",
              "      <td>0</td>\n",
              "      <td>0</td>\n",
              "      <td>0</td>\n",
              "      <td>0</td>\n",
              "      <td>0</td>\n",
              "      <td>0</td>\n",
              "      <td>1</td>\n",
              "      <td>...</td>\n",
              "      <td>f</td>\n",
              "      <td>?</td>\n",
              "      <td>no</td>\n",
              "      <td>no</td>\n",
              "      <td>AmericanSamoa</td>\n",
              "      <td>no</td>\n",
              "      <td>2</td>\n",
              "      <td>12-16 years</td>\n",
              "      <td>?</td>\n",
              "      <td>NO</td>\n",
              "    </tr>\n",
              "    <tr>\n",
              "      <th>3</th>\n",
              "      <td>4</td>\n",
              "      <td>0</td>\n",
              "      <td>1</td>\n",
              "      <td>1</td>\n",
              "      <td>1</td>\n",
              "      <td>1</td>\n",
              "      <td>1</td>\n",
              "      <td>0</td>\n",
              "      <td>1</td>\n",
              "      <td>1</td>\n",
              "      <td>...</td>\n",
              "      <td>f</td>\n",
              "      <td>White-European</td>\n",
              "      <td>no</td>\n",
              "      <td>no</td>\n",
              "      <td>United Kingdom</td>\n",
              "      <td>no</td>\n",
              "      <td>7</td>\n",
              "      <td>12-16 years</td>\n",
              "      <td>Self</td>\n",
              "      <td>YES</td>\n",
              "    </tr>\n",
              "    <tr>\n",
              "      <th>4</th>\n",
              "      <td>5</td>\n",
              "      <td>1</td>\n",
              "      <td>1</td>\n",
              "      <td>1</td>\n",
              "      <td>1</td>\n",
              "      <td>1</td>\n",
              "      <td>1</td>\n",
              "      <td>1</td>\n",
              "      <td>0</td>\n",
              "      <td>0</td>\n",
              "      <td>...</td>\n",
              "      <td>f</td>\n",
              "      <td>?</td>\n",
              "      <td>no</td>\n",
              "      <td>no</td>\n",
              "      <td>Albania</td>\n",
              "      <td>no</td>\n",
              "      <td>7</td>\n",
              "      <td>12-16 years</td>\n",
              "      <td>?</td>\n",
              "      <td>YES</td>\n",
              "    </tr>\n",
              "    <tr>\n",
              "      <th>5</th>\n",
              "      <td>6</td>\n",
              "      <td>1</td>\n",
              "      <td>0</td>\n",
              "      <td>0</td>\n",
              "      <td>0</td>\n",
              "      <td>0</td>\n",
              "      <td>1</td>\n",
              "      <td>0</td>\n",
              "      <td>0</td>\n",
              "      <td>1</td>\n",
              "      <td>...</td>\n",
              "      <td>f</td>\n",
              "      <td>?</td>\n",
              "      <td>no</td>\n",
              "      <td>no</td>\n",
              "      <td>Belgium</td>\n",
              "      <td>no</td>\n",
              "      <td>3</td>\n",
              "      <td>12-16 years</td>\n",
              "      <td>?</td>\n",
              "      <td>NO</td>\n",
              "    </tr>\n",
              "    <tr>\n",
              "      <th>6</th>\n",
              "      <td>7</td>\n",
              "      <td>0</td>\n",
              "      <td>0</td>\n",
              "      <td>0</td>\n",
              "      <td>1</td>\n",
              "      <td>1</td>\n",
              "      <td>1</td>\n",
              "      <td>1</td>\n",
              "      <td>1</td>\n",
              "      <td>1</td>\n",
              "      <td>...</td>\n",
              "      <td>f</td>\n",
              "      <td>?</td>\n",
              "      <td>no</td>\n",
              "      <td>no</td>\n",
              "      <td>Afghanistan</td>\n",
              "      <td>no</td>\n",
              "      <td>6</td>\n",
              "      <td>12-16 years</td>\n",
              "      <td>?</td>\n",
              "      <td>NO</td>\n",
              "    </tr>\n",
              "    <tr>\n",
              "      <th>7</th>\n",
              "      <td>8</td>\n",
              "      <td>1</td>\n",
              "      <td>1</td>\n",
              "      <td>0</td>\n",
              "      <td>1</td>\n",
              "      <td>1</td>\n",
              "      <td>0</td>\n",
              "      <td>1</td>\n",
              "      <td>1</td>\n",
              "      <td>0</td>\n",
              "      <td>...</td>\n",
              "      <td>f</td>\n",
              "      <td>Middle Eastern</td>\n",
              "      <td>no</td>\n",
              "      <td>no</td>\n",
              "      <td>Australia</td>\n",
              "      <td>no</td>\n",
              "      <td>7</td>\n",
              "      <td>12-16 years</td>\n",
              "      <td>Parent</td>\n",
              "      <td>YES</td>\n",
              "    </tr>\n",
              "    <tr>\n",
              "      <th>8</th>\n",
              "      <td>9</td>\n",
              "      <td>1</td>\n",
              "      <td>1</td>\n",
              "      <td>1</td>\n",
              "      <td>1</td>\n",
              "      <td>1</td>\n",
              "      <td>1</td>\n",
              "      <td>0</td>\n",
              "      <td>0</td>\n",
              "      <td>0</td>\n",
              "      <td>...</td>\n",
              "      <td>m</td>\n",
              "      <td>Black</td>\n",
              "      <td>yes</td>\n",
              "      <td>yes</td>\n",
              "      <td>Bahrain</td>\n",
              "      <td>no</td>\n",
              "      <td>6</td>\n",
              "      <td>12-16 years</td>\n",
              "      <td>Parent</td>\n",
              "      <td>NO</td>\n",
              "    </tr>\n",
              "    <tr>\n",
              "      <th>9</th>\n",
              "      <td>10</td>\n",
              "      <td>0</td>\n",
              "      <td>1</td>\n",
              "      <td>1</td>\n",
              "      <td>0</td>\n",
              "      <td>0</td>\n",
              "      <td>1</td>\n",
              "      <td>0</td>\n",
              "      <td>0</td>\n",
              "      <td>1</td>\n",
              "      <td>...</td>\n",
              "      <td>f</td>\n",
              "      <td>South Asian</td>\n",
              "      <td>no</td>\n",
              "      <td>no</td>\n",
              "      <td>Azerbaijan</td>\n",
              "      <td>no</td>\n",
              "      <td>4</td>\n",
              "      <td>12-16 years</td>\n",
              "      <td>Parent</td>\n",
              "      <td>NO</td>\n",
              "    </tr>\n",
              "  </tbody>\n",
              "</table>\n",
              "<p>10 rows × 22 columns</p>\n",
              "</div>\n",
              "      <button class=\"colab-df-convert\" onclick=\"convertToInteractive('df-86c83327-ac82-4c7b-bece-a34e36b3ac00')\"\n",
              "              title=\"Convert this dataframe to an interactive table.\"\n",
              "              style=\"display:none;\">\n",
              "        \n",
              "  <svg xmlns=\"http://www.w3.org/2000/svg\" height=\"24px\"viewBox=\"0 0 24 24\"\n",
              "       width=\"24px\">\n",
              "    <path d=\"M0 0h24v24H0V0z\" fill=\"none\"/>\n",
              "    <path d=\"M18.56 5.44l.94 2.06.94-2.06 2.06-.94-2.06-.94-.94-2.06-.94 2.06-2.06.94zm-11 1L8.5 8.5l.94-2.06 2.06-.94-2.06-.94L8.5 2.5l-.94 2.06-2.06.94zm10 10l.94 2.06.94-2.06 2.06-.94-2.06-.94-.94-2.06-.94 2.06-2.06.94z\"/><path d=\"M17.41 7.96l-1.37-1.37c-.4-.4-.92-.59-1.43-.59-.52 0-1.04.2-1.43.59L10.3 9.45l-7.72 7.72c-.78.78-.78 2.05 0 2.83L4 21.41c.39.39.9.59 1.41.59.51 0 1.02-.2 1.41-.59l7.78-7.78 2.81-2.81c.8-.78.8-2.07 0-2.86zM5.41 20L4 18.59l7.72-7.72 1.47 1.35L5.41 20z\"/>\n",
              "  </svg>\n",
              "      </button>\n",
              "      \n",
              "  <style>\n",
              "    .colab-df-container {\n",
              "      display:flex;\n",
              "      flex-wrap:wrap;\n",
              "      gap: 12px;\n",
              "    }\n",
              "\n",
              "    .colab-df-convert {\n",
              "      background-color: #E8F0FE;\n",
              "      border: none;\n",
              "      border-radius: 50%;\n",
              "      cursor: pointer;\n",
              "      display: none;\n",
              "      fill: #1967D2;\n",
              "      height: 32px;\n",
              "      padding: 0 0 0 0;\n",
              "      width: 32px;\n",
              "    }\n",
              "\n",
              "    .colab-df-convert:hover {\n",
              "      background-color: #E2EBFA;\n",
              "      box-shadow: 0px 1px 2px rgba(60, 64, 67, 0.3), 0px 1px 3px 1px rgba(60, 64, 67, 0.15);\n",
              "      fill: #174EA6;\n",
              "    }\n",
              "\n",
              "    [theme=dark] .colab-df-convert {\n",
              "      background-color: #3B4455;\n",
              "      fill: #D2E3FC;\n",
              "    }\n",
              "\n",
              "    [theme=dark] .colab-df-convert:hover {\n",
              "      background-color: #434B5C;\n",
              "      box-shadow: 0px 1px 3px 1px rgba(0, 0, 0, 0.15);\n",
              "      filter: drop-shadow(0px 1px 2px rgba(0, 0, 0, 0.3));\n",
              "      fill: #FFFFFF;\n",
              "    }\n",
              "  </style>\n",
              "\n",
              "      <script>\n",
              "        const buttonEl =\n",
              "          document.querySelector('#df-86c83327-ac82-4c7b-bece-a34e36b3ac00 button.colab-df-convert');\n",
              "        buttonEl.style.display =\n",
              "          google.colab.kernel.accessAllowed ? 'block' : 'none';\n",
              "\n",
              "        async function convertToInteractive(key) {\n",
              "          const element = document.querySelector('#df-86c83327-ac82-4c7b-bece-a34e36b3ac00');\n",
              "          const dataTable =\n",
              "            await google.colab.kernel.invokeFunction('convertToInteractive',\n",
              "                                                     [key], {});\n",
              "          if (!dataTable) return;\n",
              "\n",
              "          const docLinkHtml = 'Like what you see? Visit the ' +\n",
              "            '<a target=\"_blank\" href=https://colab.research.google.com/notebooks/data_table.ipynb>data table notebook</a>'\n",
              "            + ' to learn more about interactive tables.';\n",
              "          element.innerHTML = '';\n",
              "          dataTable['output_type'] = 'display_data';\n",
              "          await google.colab.output.renderOutput(dataTable, element);\n",
              "          const docLink = document.createElement('div');\n",
              "          docLink.innerHTML = docLinkHtml;\n",
              "          element.appendChild(docLink);\n",
              "        }\n",
              "      </script>\n",
              "    </div>\n",
              "  </div>\n",
              "  "
            ]
          },
          "metadata": {},
          "execution_count": 7
        }
      ],
      "source": [
        "dt_f.head(10)"
      ]
    },
    {
      "cell_type": "code",
      "execution_count": null,
      "metadata": {
        "colab": {
          "base_uri": "https://localhost:8080/",
          "height": 300
        },
        "id": "P1AhPobZ0uXF",
        "outputId": "2b330b80-4cbc-47a5-cec3-9a020b654d53"
      },
      "outputs": [
        {
          "output_type": "execute_result",
          "data": {
            "text/plain": [
              "               id    A1_Score    A2_Score    A3_Score    A4_Score   A5_Score  \\\n",
              "count  104.000000  104.000000  104.000000  104.000000  104.000000  104.00000   \n",
              "mean    52.500000    0.730769    0.538462    0.653846    0.701923    0.75000   \n",
              "std     30.166206    0.445708    0.500933    0.478047    0.459629    0.43511   \n",
              "min      1.000000    0.000000    0.000000    0.000000    0.000000    0.00000   \n",
              "25%     26.750000    0.000000    0.000000    0.000000    0.000000    0.75000   \n",
              "50%     52.500000    1.000000    1.000000    1.000000    1.000000    1.00000   \n",
              "75%     78.250000    1.000000    1.000000    1.000000    1.000000    1.00000   \n",
              "max    104.000000    1.000000    1.000000    1.000000    1.000000    1.00000   \n",
              "\n",
              "         A6_Score    A7_Score    A8_Score    A9_Score   A10_Score         age  \\\n",
              "count  104.000000  104.000000  104.000000  104.000000  104.000000  104.000000   \n",
              "mean     0.769231    0.519231    0.615385    0.788462    0.653846   14.134615   \n",
              "std      0.423365    0.502050    0.488860    0.410377    0.478047    1.576882   \n",
              "min      0.000000    0.000000    0.000000    0.000000    0.000000   12.000000   \n",
              "25%      1.000000    0.000000    0.000000    1.000000    0.000000   13.000000   \n",
              "50%      1.000000    1.000000    1.000000    1.000000    1.000000   14.000000   \n",
              "75%      1.000000    1.000000    1.000000    1.000000    1.000000   16.000000   \n",
              "max      1.000000    1.000000    1.000000    1.000000    1.000000   16.000000   \n",
              "\n",
              "           result  \n",
              "count  104.000000  \n",
              "mean     6.721154  \n",
              "std      2.200868  \n",
              "min      1.000000  \n",
              "25%      6.000000  \n",
              "50%      7.000000  \n",
              "75%      8.000000  \n",
              "max     10.000000  "
            ],
            "text/html": [
              "\n",
              "  <div id=\"df-52a781ba-da98-4772-a9e9-6b20210caa65\">\n",
              "    <div class=\"colab-df-container\">\n",
              "      <div>\n",
              "<style scoped>\n",
              "    .dataframe tbody tr th:only-of-type {\n",
              "        vertical-align: middle;\n",
              "    }\n",
              "\n",
              "    .dataframe tbody tr th {\n",
              "        vertical-align: top;\n",
              "    }\n",
              "\n",
              "    .dataframe thead th {\n",
              "        text-align: right;\n",
              "    }\n",
              "</style>\n",
              "<table border=\"1\" class=\"dataframe\">\n",
              "  <thead>\n",
              "    <tr style=\"text-align: right;\">\n",
              "      <th></th>\n",
              "      <th>id</th>\n",
              "      <th>A1_Score</th>\n",
              "      <th>A2_Score</th>\n",
              "      <th>A3_Score</th>\n",
              "      <th>A4_Score</th>\n",
              "      <th>A5_Score</th>\n",
              "      <th>A6_Score</th>\n",
              "      <th>A7_Score</th>\n",
              "      <th>A8_Score</th>\n",
              "      <th>A9_Score</th>\n",
              "      <th>A10_Score</th>\n",
              "      <th>age</th>\n",
              "      <th>result</th>\n",
              "    </tr>\n",
              "  </thead>\n",
              "  <tbody>\n",
              "    <tr>\n",
              "      <th>count</th>\n",
              "      <td>104.000000</td>\n",
              "      <td>104.000000</td>\n",
              "      <td>104.000000</td>\n",
              "      <td>104.000000</td>\n",
              "      <td>104.000000</td>\n",
              "      <td>104.00000</td>\n",
              "      <td>104.000000</td>\n",
              "      <td>104.000000</td>\n",
              "      <td>104.000000</td>\n",
              "      <td>104.000000</td>\n",
              "      <td>104.000000</td>\n",
              "      <td>104.000000</td>\n",
              "      <td>104.000000</td>\n",
              "    </tr>\n",
              "    <tr>\n",
              "      <th>mean</th>\n",
              "      <td>52.500000</td>\n",
              "      <td>0.730769</td>\n",
              "      <td>0.538462</td>\n",
              "      <td>0.653846</td>\n",
              "      <td>0.701923</td>\n",
              "      <td>0.75000</td>\n",
              "      <td>0.769231</td>\n",
              "      <td>0.519231</td>\n",
              "      <td>0.615385</td>\n",
              "      <td>0.788462</td>\n",
              "      <td>0.653846</td>\n",
              "      <td>14.134615</td>\n",
              "      <td>6.721154</td>\n",
              "    </tr>\n",
              "    <tr>\n",
              "      <th>std</th>\n",
              "      <td>30.166206</td>\n",
              "      <td>0.445708</td>\n",
              "      <td>0.500933</td>\n",
              "      <td>0.478047</td>\n",
              "      <td>0.459629</td>\n",
              "      <td>0.43511</td>\n",
              "      <td>0.423365</td>\n",
              "      <td>0.502050</td>\n",
              "      <td>0.488860</td>\n",
              "      <td>0.410377</td>\n",
              "      <td>0.478047</td>\n",
              "      <td>1.576882</td>\n",
              "      <td>2.200868</td>\n",
              "    </tr>\n",
              "    <tr>\n",
              "      <th>min</th>\n",
              "      <td>1.000000</td>\n",
              "      <td>0.000000</td>\n",
              "      <td>0.000000</td>\n",
              "      <td>0.000000</td>\n",
              "      <td>0.000000</td>\n",
              "      <td>0.00000</td>\n",
              "      <td>0.000000</td>\n",
              "      <td>0.000000</td>\n",
              "      <td>0.000000</td>\n",
              "      <td>0.000000</td>\n",
              "      <td>0.000000</td>\n",
              "      <td>12.000000</td>\n",
              "      <td>1.000000</td>\n",
              "    </tr>\n",
              "    <tr>\n",
              "      <th>25%</th>\n",
              "      <td>26.750000</td>\n",
              "      <td>0.000000</td>\n",
              "      <td>0.000000</td>\n",
              "      <td>0.000000</td>\n",
              "      <td>0.000000</td>\n",
              "      <td>0.75000</td>\n",
              "      <td>1.000000</td>\n",
              "      <td>0.000000</td>\n",
              "      <td>0.000000</td>\n",
              "      <td>1.000000</td>\n",
              "      <td>0.000000</td>\n",
              "      <td>13.000000</td>\n",
              "      <td>6.000000</td>\n",
              "    </tr>\n",
              "    <tr>\n",
              "      <th>50%</th>\n",
              "      <td>52.500000</td>\n",
              "      <td>1.000000</td>\n",
              "      <td>1.000000</td>\n",
              "      <td>1.000000</td>\n",
              "      <td>1.000000</td>\n",
              "      <td>1.00000</td>\n",
              "      <td>1.000000</td>\n",
              "      <td>1.000000</td>\n",
              "      <td>1.000000</td>\n",
              "      <td>1.000000</td>\n",
              "      <td>1.000000</td>\n",
              "      <td>14.000000</td>\n",
              "      <td>7.000000</td>\n",
              "    </tr>\n",
              "    <tr>\n",
              "      <th>75%</th>\n",
              "      <td>78.250000</td>\n",
              "      <td>1.000000</td>\n",
              "      <td>1.000000</td>\n",
              "      <td>1.000000</td>\n",
              "      <td>1.000000</td>\n",
              "      <td>1.00000</td>\n",
              "      <td>1.000000</td>\n",
              "      <td>1.000000</td>\n",
              "      <td>1.000000</td>\n",
              "      <td>1.000000</td>\n",
              "      <td>1.000000</td>\n",
              "      <td>16.000000</td>\n",
              "      <td>8.000000</td>\n",
              "    </tr>\n",
              "    <tr>\n",
              "      <th>max</th>\n",
              "      <td>104.000000</td>\n",
              "      <td>1.000000</td>\n",
              "      <td>1.000000</td>\n",
              "      <td>1.000000</td>\n",
              "      <td>1.000000</td>\n",
              "      <td>1.00000</td>\n",
              "      <td>1.000000</td>\n",
              "      <td>1.000000</td>\n",
              "      <td>1.000000</td>\n",
              "      <td>1.000000</td>\n",
              "      <td>1.000000</td>\n",
              "      <td>16.000000</td>\n",
              "      <td>10.000000</td>\n",
              "    </tr>\n",
              "  </tbody>\n",
              "</table>\n",
              "</div>\n",
              "      <button class=\"colab-df-convert\" onclick=\"convertToInteractive('df-52a781ba-da98-4772-a9e9-6b20210caa65')\"\n",
              "              title=\"Convert this dataframe to an interactive table.\"\n",
              "              style=\"display:none;\">\n",
              "        \n",
              "  <svg xmlns=\"http://www.w3.org/2000/svg\" height=\"24px\"viewBox=\"0 0 24 24\"\n",
              "       width=\"24px\">\n",
              "    <path d=\"M0 0h24v24H0V0z\" fill=\"none\"/>\n",
              "    <path d=\"M18.56 5.44l.94 2.06.94-2.06 2.06-.94-2.06-.94-.94-2.06-.94 2.06-2.06.94zm-11 1L8.5 8.5l.94-2.06 2.06-.94-2.06-.94L8.5 2.5l-.94 2.06-2.06.94zm10 10l.94 2.06.94-2.06 2.06-.94-2.06-.94-.94-2.06-.94 2.06-2.06.94z\"/><path d=\"M17.41 7.96l-1.37-1.37c-.4-.4-.92-.59-1.43-.59-.52 0-1.04.2-1.43.59L10.3 9.45l-7.72 7.72c-.78.78-.78 2.05 0 2.83L4 21.41c.39.39.9.59 1.41.59.51 0 1.02-.2 1.41-.59l7.78-7.78 2.81-2.81c.8-.78.8-2.07 0-2.86zM5.41 20L4 18.59l7.72-7.72 1.47 1.35L5.41 20z\"/>\n",
              "  </svg>\n",
              "      </button>\n",
              "      \n",
              "  <style>\n",
              "    .colab-df-container {\n",
              "      display:flex;\n",
              "      flex-wrap:wrap;\n",
              "      gap: 12px;\n",
              "    }\n",
              "\n",
              "    .colab-df-convert {\n",
              "      background-color: #E8F0FE;\n",
              "      border: none;\n",
              "      border-radius: 50%;\n",
              "      cursor: pointer;\n",
              "      display: none;\n",
              "      fill: #1967D2;\n",
              "      height: 32px;\n",
              "      padding: 0 0 0 0;\n",
              "      width: 32px;\n",
              "    }\n",
              "\n",
              "    .colab-df-convert:hover {\n",
              "      background-color: #E2EBFA;\n",
              "      box-shadow: 0px 1px 2px rgba(60, 64, 67, 0.3), 0px 1px 3px 1px rgba(60, 64, 67, 0.15);\n",
              "      fill: #174EA6;\n",
              "    }\n",
              "\n",
              "    [theme=dark] .colab-df-convert {\n",
              "      background-color: #3B4455;\n",
              "      fill: #D2E3FC;\n",
              "    }\n",
              "\n",
              "    [theme=dark] .colab-df-convert:hover {\n",
              "      background-color: #434B5C;\n",
              "      box-shadow: 0px 1px 3px 1px rgba(0, 0, 0, 0.15);\n",
              "      filter: drop-shadow(0px 1px 2px rgba(0, 0, 0, 0.3));\n",
              "      fill: #FFFFFF;\n",
              "    }\n",
              "  </style>\n",
              "\n",
              "      <script>\n",
              "        const buttonEl =\n",
              "          document.querySelector('#df-52a781ba-da98-4772-a9e9-6b20210caa65 button.colab-df-convert');\n",
              "        buttonEl.style.display =\n",
              "          google.colab.kernel.accessAllowed ? 'block' : 'none';\n",
              "\n",
              "        async function convertToInteractive(key) {\n",
              "          const element = document.querySelector('#df-52a781ba-da98-4772-a9e9-6b20210caa65');\n",
              "          const dataTable =\n",
              "            await google.colab.kernel.invokeFunction('convertToInteractive',\n",
              "                                                     [key], {});\n",
              "          if (!dataTable) return;\n",
              "\n",
              "          const docLinkHtml = 'Like what you see? Visit the ' +\n",
              "            '<a target=\"_blank\" href=https://colab.research.google.com/notebooks/data_table.ipynb>data table notebook</a>'\n",
              "            + ' to learn more about interactive tables.';\n",
              "          element.innerHTML = '';\n",
              "          dataTable['output_type'] = 'display_data';\n",
              "          await google.colab.output.renderOutput(dataTable, element);\n",
              "          const docLink = document.createElement('div');\n",
              "          docLink.innerHTML = docLinkHtml;\n",
              "          element.appendChild(docLink);\n",
              "        }\n",
              "      </script>\n",
              "    </div>\n",
              "  </div>\n",
              "  "
            ]
          },
          "metadata": {},
          "execution_count": 8
        }
      ],
      "source": [
        "dt_f.describe()"
      ]
    },
    {
      "cell_type": "markdown",
      "metadata": {
        "id": "tes7x14X1LOz"
      },
      "source": [
        "# **Data Cleaning**"
      ]
    },
    {
      "cell_type": "markdown",
      "metadata": {
        "id": "Oo8cDLKO1PQc"
      },
      "source": [
        "**Checking Missing Values**"
      ]
    },
    {
      "cell_type": "code",
      "execution_count": null,
      "metadata": {
        "colab": {
          "base_uri": "https://localhost:8080/"
        },
        "id": "rDlKY4-O05i9",
        "outputId": "6ccefe8b-c85a-457f-dc72-07547b2d2e0a"
      },
      "outputs": [
        {
          "output_type": "execute_result",
          "data": {
            "text/plain": [
              "id                 0\n",
              "A1_Score           0\n",
              "A2_Score           0\n",
              "A3_Score           0\n",
              "A4_Score           0\n",
              "A5_Score           0\n",
              "A6_Score           0\n",
              "A7_Score           0\n",
              "A8_Score           0\n",
              "A9_Score           0\n",
              "A10_Score          0\n",
              "age                0\n",
              "gender             0\n",
              "ethnicity          0\n",
              "jundice            0\n",
              "austim             0\n",
              "contry_of_res      0\n",
              "used_app_before    0\n",
              "result             0\n",
              "age_desc           0\n",
              "relation           0\n",
              "Class/ASD          0\n",
              "dtype: int64"
            ]
          },
          "metadata": {},
          "execution_count": 9
        }
      ],
      "source": [
        "dt_f.apply(lambda x: sum(x.isnull()))"
      ]
    },
    {
      "cell_type": "code",
      "execution_count": null,
      "metadata": {
        "colab": {
          "base_uri": "https://localhost:8080/"
        },
        "id": "jum1B8g-8Mfy",
        "outputId": "a05f2910-91c7-42f1-8e9e-cb72a03ca4d0"
      },
      "outputs": [
        {
          "output_type": "stream",
          "name": "stdout",
          "text": [
            "==============================\n",
            "id : [  1   2   3   4   5   6   7   8   9  10  11  12  13  14  15  16  17  18\n",
            "  19  20  21  22  23  24  25  26  27  28  29  30  31  32  33  34  35  36\n",
            "  37  38  39  40  41  42  43  44  45  46  47  48  49  50  51  52  53  54\n",
            "  55  56  57  58  59  60  61  62  63  64  65  66  67  68  69  70  71  72\n",
            "  73  74  75  76  77  78  79  80  81  82  83  84  85  86  87  88  89  90\n",
            "  91  92  93  94  95  96  97  98  99 100 101 102 103 104]\n",
            "==============================\n",
            "A1_Score : [0 1]\n",
            "==============================\n",
            "A2_Score : [0 1]\n",
            "==============================\n",
            "A3_Score : [0 1]\n",
            "==============================\n",
            "A4_Score : [1 0]\n",
            "==============================\n",
            "A5_Score : [1 0]\n",
            "==============================\n",
            "A6_Score : [1 0]\n",
            "==============================\n",
            "A7_Score : [1 0]\n",
            "==============================\n",
            "A8_Score : [1 0]\n",
            "==============================\n",
            "A9_Score : [1 0]\n",
            "==============================\n",
            "A10_Score : [0 1]\n",
            "==============================\n",
            "age : [15 12 14 16 13]\n",
            "==============================\n",
            "gender : ['m' 'f']\n",
            "==============================\n",
            "ethnicity : ['Hispanic' 'Black' '?' 'White-European' 'Middle Eastern ' 'South Asian'\n",
            " 'Others' 'Latino' 'Asian']\n",
            "==============================\n",
            "jundice : ['yes' 'no']\n",
            "==============================\n",
            "austim : ['yes' 'no']\n",
            "==============================\n",
            "contry_of_res : ['Austria' 'AmericanSamoa' 'United Kingdom' 'Albania' 'Belgium'\n",
            " 'Afghanistan' 'Australia' 'Bahrain' 'Azerbaijan' 'United Arab Emirates'\n",
            " 'New Zealand' 'United States' 'Argentina' 'Jordan' 'Canada' 'Brazil'\n",
            " 'Croatia' 'India' 'Bangladesh' 'France' 'Indonesia' 'Egypt' 'Netherlands'\n",
            " 'Greenland' 'Bahamas' 'South Africa' 'Viet Nam' 'Comoros' 'Portugal'\n",
            " 'Finland' 'Norway' 'Ireland' 'Anguilla']\n",
            "==============================\n",
            "used_app_before : ['no' 'yes']\n",
            "==============================\n",
            "result : [ 6  2  7  3  4  5  9  8 10  1]\n",
            "==============================\n",
            "age_desc : ['12-16 years' '12-15 years']\n",
            "==============================\n",
            "relation : ['Parent' 'Relative' '?' 'Self' 'Health care professional' 'Others']\n",
            "==============================\n",
            "Class/ASD : ['NO' 'YES']\n"
          ]
        }
      ],
      "source": [
        "categorical_val = []\n",
        "continous_val = []\n",
        "for column in dt_f.columns:\n",
        "    print('==============================')\n",
        "    print(f\"{column} : {dt_f[column].unique()}\")\n",
        "    if len(dt_f[column].unique()) <= 10:\n",
        "        categorical_val.append(column)\n",
        "    else:\n",
        "        continous_val.append(column)"
      ]
    },
    {
      "cell_type": "code",
      "execution_count": null,
      "metadata": {
        "colab": {
          "base_uri": "https://localhost:8080/"
        },
        "id": "_eHvDK0b4PK8",
        "outputId": "5227f869-3eaf-4f15-a5b4-f090295a27d7"
      },
      "outputs": [
        {
          "output_type": "execute_result",
          "data": {
            "text/plain": [
              "id                 104\n",
              "A1_Score             2\n",
              "A2_Score             2\n",
              "A3_Score             2\n",
              "A4_Score             2\n",
              "A5_Score             2\n",
              "A6_Score             2\n",
              "A7_Score             2\n",
              "A8_Score             2\n",
              "A9_Score             2\n",
              "A10_Score            2\n",
              "age                  5\n",
              "gender               2\n",
              "ethnicity            9\n",
              "jundice              2\n",
              "austim               2\n",
              "contry_of_res       33\n",
              "used_app_before      2\n",
              "result              10\n",
              "age_desc             2\n",
              "relation             6\n",
              "Class/ASD            2\n",
              "dtype: int64"
            ]
          },
          "metadata": {},
          "execution_count": 11
        }
      ],
      "source": [
        "dt_f.nunique()"
      ]
    },
    {
      "cell_type": "code",
      "execution_count": null,
      "metadata": {
        "colab": {
          "base_uri": "https://localhost:8080/"
        },
        "id": "vz5Vy2GDlPd9",
        "outputId": "8789ecab-a675-4678-cfcc-a5e033683304"
      },
      "outputs": [
        {
          "output_type": "execute_result",
          "data": {
            "text/plain": [
              "YES    63\n",
              "NO     41\n",
              "Name: Class/ASD, dtype: int64"
            ]
          },
          "metadata": {},
          "execution_count": 12
        }
      ],
      "source": [
        "dt_f['Class/ASD'].value_counts()"
      ]
    },
    {
      "cell_type": "code",
      "execution_count": null,
      "metadata": {
        "colab": {
          "base_uri": "https://localhost:8080/",
          "height": 288
        },
        "id": "HRDdaSVqlcwe",
        "outputId": "8641bc6d-a862-4af4-bea2-206390939cba"
      },
      "outputs": [
        {
          "output_type": "execute_result",
          "data": {
            "text/plain": [
              "   A1_Score  A2_Score  A3_Score  A4_Score  A5_Score  A6_Score  A7_Score  \\\n",
              "0         0         0         0         1         1         1         1   \n",
              "1         0         0         0         0         0         0         0   \n",
              "2         0         0         0         0         0         0         0   \n",
              "3         0         1         1         1         1         1         0   \n",
              "4         1         1         1         1         1         1         1   \n",
              "\n",
              "   A8_Score  A9_Score  A10_Score  age gender       ethnicity jundice austim  \\\n",
              "0         1         1          0   15      m        Hispanic     yes    yes   \n",
              "1         0         1          1   15      m           Black      no     no   \n",
              "2         0         1          1   12      f               ?      no     no   \n",
              "3         1         1          0   14      f  White-European      no     no   \n",
              "4         0         0          0   16      f               ?      no     no   \n",
              "\n",
              "    contry_of_res used_app_before  result  relation Class/ASD  \n",
              "0         Austria              no       6    Parent        NO  \n",
              "1         Austria              no       2  Relative        NO  \n",
              "2   AmericanSamoa              no       2         ?        NO  \n",
              "3  United Kingdom              no       7      Self       YES  \n",
              "4         Albania              no       7         ?       YES  "
            ],
            "text/html": [
              "\n",
              "  <div id=\"df-2cb8ee12-c949-461a-8320-f953864097f5\">\n",
              "    <div class=\"colab-df-container\">\n",
              "      <div>\n",
              "<style scoped>\n",
              "    .dataframe tbody tr th:only-of-type {\n",
              "        vertical-align: middle;\n",
              "    }\n",
              "\n",
              "    .dataframe tbody tr th {\n",
              "        vertical-align: top;\n",
              "    }\n",
              "\n",
              "    .dataframe thead th {\n",
              "        text-align: right;\n",
              "    }\n",
              "</style>\n",
              "<table border=\"1\" class=\"dataframe\">\n",
              "  <thead>\n",
              "    <tr style=\"text-align: right;\">\n",
              "      <th></th>\n",
              "      <th>A1_Score</th>\n",
              "      <th>A2_Score</th>\n",
              "      <th>A3_Score</th>\n",
              "      <th>A4_Score</th>\n",
              "      <th>A5_Score</th>\n",
              "      <th>A6_Score</th>\n",
              "      <th>A7_Score</th>\n",
              "      <th>A8_Score</th>\n",
              "      <th>A9_Score</th>\n",
              "      <th>A10_Score</th>\n",
              "      <th>age</th>\n",
              "      <th>gender</th>\n",
              "      <th>ethnicity</th>\n",
              "      <th>jundice</th>\n",
              "      <th>austim</th>\n",
              "      <th>contry_of_res</th>\n",
              "      <th>used_app_before</th>\n",
              "      <th>result</th>\n",
              "      <th>relation</th>\n",
              "      <th>Class/ASD</th>\n",
              "    </tr>\n",
              "  </thead>\n",
              "  <tbody>\n",
              "    <tr>\n",
              "      <th>0</th>\n",
              "      <td>0</td>\n",
              "      <td>0</td>\n",
              "      <td>0</td>\n",
              "      <td>1</td>\n",
              "      <td>1</td>\n",
              "      <td>1</td>\n",
              "      <td>1</td>\n",
              "      <td>1</td>\n",
              "      <td>1</td>\n",
              "      <td>0</td>\n",
              "      <td>15</td>\n",
              "      <td>m</td>\n",
              "      <td>Hispanic</td>\n",
              "      <td>yes</td>\n",
              "      <td>yes</td>\n",
              "      <td>Austria</td>\n",
              "      <td>no</td>\n",
              "      <td>6</td>\n",
              "      <td>Parent</td>\n",
              "      <td>NO</td>\n",
              "    </tr>\n",
              "    <tr>\n",
              "      <th>1</th>\n",
              "      <td>0</td>\n",
              "      <td>0</td>\n",
              "      <td>0</td>\n",
              "      <td>0</td>\n",
              "      <td>0</td>\n",
              "      <td>0</td>\n",
              "      <td>0</td>\n",
              "      <td>0</td>\n",
              "      <td>1</td>\n",
              "      <td>1</td>\n",
              "      <td>15</td>\n",
              "      <td>m</td>\n",
              "      <td>Black</td>\n",
              "      <td>no</td>\n",
              "      <td>no</td>\n",
              "      <td>Austria</td>\n",
              "      <td>no</td>\n",
              "      <td>2</td>\n",
              "      <td>Relative</td>\n",
              "      <td>NO</td>\n",
              "    </tr>\n",
              "    <tr>\n",
              "      <th>2</th>\n",
              "      <td>0</td>\n",
              "      <td>0</td>\n",
              "      <td>0</td>\n",
              "      <td>0</td>\n",
              "      <td>0</td>\n",
              "      <td>0</td>\n",
              "      <td>0</td>\n",
              "      <td>0</td>\n",
              "      <td>1</td>\n",
              "      <td>1</td>\n",
              "      <td>12</td>\n",
              "      <td>f</td>\n",
              "      <td>?</td>\n",
              "      <td>no</td>\n",
              "      <td>no</td>\n",
              "      <td>AmericanSamoa</td>\n",
              "      <td>no</td>\n",
              "      <td>2</td>\n",
              "      <td>?</td>\n",
              "      <td>NO</td>\n",
              "    </tr>\n",
              "    <tr>\n",
              "      <th>3</th>\n",
              "      <td>0</td>\n",
              "      <td>1</td>\n",
              "      <td>1</td>\n",
              "      <td>1</td>\n",
              "      <td>1</td>\n",
              "      <td>1</td>\n",
              "      <td>0</td>\n",
              "      <td>1</td>\n",
              "      <td>1</td>\n",
              "      <td>0</td>\n",
              "      <td>14</td>\n",
              "      <td>f</td>\n",
              "      <td>White-European</td>\n",
              "      <td>no</td>\n",
              "      <td>no</td>\n",
              "      <td>United Kingdom</td>\n",
              "      <td>no</td>\n",
              "      <td>7</td>\n",
              "      <td>Self</td>\n",
              "      <td>YES</td>\n",
              "    </tr>\n",
              "    <tr>\n",
              "      <th>4</th>\n",
              "      <td>1</td>\n",
              "      <td>1</td>\n",
              "      <td>1</td>\n",
              "      <td>1</td>\n",
              "      <td>1</td>\n",
              "      <td>1</td>\n",
              "      <td>1</td>\n",
              "      <td>0</td>\n",
              "      <td>0</td>\n",
              "      <td>0</td>\n",
              "      <td>16</td>\n",
              "      <td>f</td>\n",
              "      <td>?</td>\n",
              "      <td>no</td>\n",
              "      <td>no</td>\n",
              "      <td>Albania</td>\n",
              "      <td>no</td>\n",
              "      <td>7</td>\n",
              "      <td>?</td>\n",
              "      <td>YES</td>\n",
              "    </tr>\n",
              "  </tbody>\n",
              "</table>\n",
              "</div>\n",
              "      <button class=\"colab-df-convert\" onclick=\"convertToInteractive('df-2cb8ee12-c949-461a-8320-f953864097f5')\"\n",
              "              title=\"Convert this dataframe to an interactive table.\"\n",
              "              style=\"display:none;\">\n",
              "        \n",
              "  <svg xmlns=\"http://www.w3.org/2000/svg\" height=\"24px\"viewBox=\"0 0 24 24\"\n",
              "       width=\"24px\">\n",
              "    <path d=\"M0 0h24v24H0V0z\" fill=\"none\"/>\n",
              "    <path d=\"M18.56 5.44l.94 2.06.94-2.06 2.06-.94-2.06-.94-.94-2.06-.94 2.06-2.06.94zm-11 1L8.5 8.5l.94-2.06 2.06-.94-2.06-.94L8.5 2.5l-.94 2.06-2.06.94zm10 10l.94 2.06.94-2.06 2.06-.94-2.06-.94-.94-2.06-.94 2.06-2.06.94z\"/><path d=\"M17.41 7.96l-1.37-1.37c-.4-.4-.92-.59-1.43-.59-.52 0-1.04.2-1.43.59L10.3 9.45l-7.72 7.72c-.78.78-.78 2.05 0 2.83L4 21.41c.39.39.9.59 1.41.59.51 0 1.02-.2 1.41-.59l7.78-7.78 2.81-2.81c.8-.78.8-2.07 0-2.86zM5.41 20L4 18.59l7.72-7.72 1.47 1.35L5.41 20z\"/>\n",
              "  </svg>\n",
              "      </button>\n",
              "      \n",
              "  <style>\n",
              "    .colab-df-container {\n",
              "      display:flex;\n",
              "      flex-wrap:wrap;\n",
              "      gap: 12px;\n",
              "    }\n",
              "\n",
              "    .colab-df-convert {\n",
              "      background-color: #E8F0FE;\n",
              "      border: none;\n",
              "      border-radius: 50%;\n",
              "      cursor: pointer;\n",
              "      display: none;\n",
              "      fill: #1967D2;\n",
              "      height: 32px;\n",
              "      padding: 0 0 0 0;\n",
              "      width: 32px;\n",
              "    }\n",
              "\n",
              "    .colab-df-convert:hover {\n",
              "      background-color: #E2EBFA;\n",
              "      box-shadow: 0px 1px 2px rgba(60, 64, 67, 0.3), 0px 1px 3px 1px rgba(60, 64, 67, 0.15);\n",
              "      fill: #174EA6;\n",
              "    }\n",
              "\n",
              "    [theme=dark] .colab-df-convert {\n",
              "      background-color: #3B4455;\n",
              "      fill: #D2E3FC;\n",
              "    }\n",
              "\n",
              "    [theme=dark] .colab-df-convert:hover {\n",
              "      background-color: #434B5C;\n",
              "      box-shadow: 0px 1px 3px 1px rgba(0, 0, 0, 0.15);\n",
              "      filter: drop-shadow(0px 1px 2px rgba(0, 0, 0, 0.3));\n",
              "      fill: #FFFFFF;\n",
              "    }\n",
              "  </style>\n",
              "\n",
              "      <script>\n",
              "        const buttonEl =\n",
              "          document.querySelector('#df-2cb8ee12-c949-461a-8320-f953864097f5 button.colab-df-convert');\n",
              "        buttonEl.style.display =\n",
              "          google.colab.kernel.accessAllowed ? 'block' : 'none';\n",
              "\n",
              "        async function convertToInteractive(key) {\n",
              "          const element = document.querySelector('#df-2cb8ee12-c949-461a-8320-f953864097f5');\n",
              "          const dataTable =\n",
              "            await google.colab.kernel.invokeFunction('convertToInteractive',\n",
              "                                                     [key], {});\n",
              "          if (!dataTable) return;\n",
              "\n",
              "          const docLinkHtml = 'Like what you see? Visit the ' +\n",
              "            '<a target=\"_blank\" href=https://colab.research.google.com/notebooks/data_table.ipynb>data table notebook</a>'\n",
              "            + ' to learn more about interactive tables.';\n",
              "          element.innerHTML = '';\n",
              "          dataTable['output_type'] = 'display_data';\n",
              "          await google.colab.output.renderOutput(dataTable, element);\n",
              "          const docLink = document.createElement('div');\n",
              "          docLink.innerHTML = docLinkHtml;\n",
              "          element.appendChild(docLink);\n",
              "        }\n",
              "      </script>\n",
              "    </div>\n",
              "  </div>\n",
              "  "
            ]
          },
          "metadata": {},
          "execution_count": 13
        }
      ],
      "source": [
        "dt_f.drop('age_desc',axis=1,inplace=True)\n",
        "dt_f.drop('id', axis=1, inplace=True)\n",
        "dt_f.head()"
      ]
    },
    {
      "cell_type": "code",
      "execution_count": null,
      "metadata": {
        "id": "R5qW5V7GmsCe"
      },
      "outputs": [],
      "source": [
        "dt_f = dt_f.rename(columns={'austim':'family member with PDD','jundice':'jaundice','contry_of_res':'country_of_res'})"
      ]
    },
    {
      "cell_type": "code",
      "execution_count": null,
      "metadata": {
        "id": "gJlKSXxLllcu"
      },
      "outputs": [],
      "source": [
        "dt_f['age'] = dt_f['age'].replace(['?'],'NaN')\n",
        "dt_f['gender'] = dt_f['gender'].map({'m':1,'f':0})\n",
        "dt_f['jaundice'] = dt_f['jaundice'].map({'yes':1,'no':0})\n",
        "dt_f['family member with PDD'] = dt_f['family member with PDD'].map({'yes':1,'no':0})\n",
        "dt_f['used_app_before'] = dt_f['used_app_before'].map({'yes':1,'no':0})\n",
        "dt_f['Class/ASD'] = dt_f['Class/ASD'].map({'YES':1,'NO':0})"
      ]
    },
    {
      "cell_type": "code",
      "execution_count": null,
      "metadata": {
        "colab": {
          "base_uri": "https://localhost:8080/"
        },
        "id": "FLPAqRJ-nrou",
        "outputId": "414d189f-b816-4565-d8d2-132d8b8e8b86"
      },
      "outputs": [
        {
          "output_type": "stream",
          "name": "stdout",
          "text": [
            "<class 'pandas.core.frame.DataFrame'>\n",
            "RangeIndex: 104 entries, 0 to 103\n",
            "Data columns (total 20 columns):\n",
            " #   Column                  Non-Null Count  Dtype \n",
            "---  ------                  --------------  ----- \n",
            " 0   A1_Score                104 non-null    int64 \n",
            " 1   A2_Score                104 non-null    int64 \n",
            " 2   A3_Score                104 non-null    int64 \n",
            " 3   A4_Score                104 non-null    int64 \n",
            " 4   A5_Score                104 non-null    int64 \n",
            " 5   A6_Score                104 non-null    int64 \n",
            " 6   A7_Score                104 non-null    int64 \n",
            " 7   A8_Score                104 non-null    int64 \n",
            " 8   A9_Score                104 non-null    int64 \n",
            " 9   A10_Score               104 non-null    int64 \n",
            " 10  age                     104 non-null    int64 \n",
            " 11  gender                  104 non-null    int64 \n",
            " 12  ethnicity               104 non-null    object\n",
            " 13  jaundice                104 non-null    int64 \n",
            " 14  family member with PDD  104 non-null    int64 \n",
            " 15  country_of_res          104 non-null    object\n",
            " 16  used_app_before         104 non-null    int64 \n",
            " 17  result                  104 non-null    int64 \n",
            " 18  relation                104 non-null    object\n",
            " 19  Class/ASD               104 non-null    int64 \n",
            "dtypes: int64(17), object(3)\n",
            "memory usage: 16.4+ KB\n"
          ]
        }
      ],
      "source": [
        "dt_f.info()"
      ]
    },
    {
      "cell_type": "code",
      "execution_count": null,
      "metadata": {
        "id": "JV2TNiMan5te"
      },
      "outputs": [],
      "source": [
        "dt_f['ethnicity'] = dt_f['ethnicity'].apply(lambda x: 'Others' if x == '?' else x)\n",
        "dt_f['ethnicity'] = dt_f['ethnicity'].apply(lambda x: 'Others' if x == 'others' else x)\n",
        "dt_f['ethnicity'] = dt_f['ethnicity'].apply(lambda x: 'Hispanic' if x == 'Latino' else x)"
      ]
    },
    {
      "cell_type": "code",
      "execution_count": null,
      "metadata": {
        "id": "sw63I1ASoD-F"
      },
      "outputs": [],
      "source": [
        "dt_f['relation'] = dt_f['relation'].apply(lambda x: 'Caregiver' if x == '?' else x)"
      ]
    },
    {
      "cell_type": "code",
      "execution_count": null,
      "metadata": {
        "colab": {
          "base_uri": "https://localhost:8080/"
        },
        "id": "vLdpdPHUoLM9",
        "outputId": "4c4cb336-ffb3-4366-d2f1-20c34acc4540"
      },
      "outputs": [
        {
          "output_type": "stream",
          "name": "stdout",
          "text": [
            "<class 'pandas.core.frame.DataFrame'>\n",
            "RangeIndex: 104 entries, 0 to 103\n",
            "Data columns (total 20 columns):\n",
            " #   Column                  Non-Null Count  Dtype \n",
            "---  ------                  --------------  ----- \n",
            " 0   A1_Score                104 non-null    int64 \n",
            " 1   A2_Score                104 non-null    int64 \n",
            " 2   A3_Score                104 non-null    int64 \n",
            " 3   A4_Score                104 non-null    int64 \n",
            " 4   A5_Score                104 non-null    int64 \n",
            " 5   A6_Score                104 non-null    int64 \n",
            " 6   A7_Score                104 non-null    int64 \n",
            " 7   A8_Score                104 non-null    int64 \n",
            " 8   A9_Score                104 non-null    int64 \n",
            " 9   A10_Score               104 non-null    int64 \n",
            " 10  age                     104 non-null    int64 \n",
            " 11  gender                  104 non-null    int64 \n",
            " 12  ethnicity               104 non-null    object\n",
            " 13  jaundice                104 non-null    int64 \n",
            " 14  family member with PDD  104 non-null    int64 \n",
            " 15  country_of_res          104 non-null    object\n",
            " 16  used_app_before         104 non-null    int64 \n",
            " 17  result                  104 non-null    int64 \n",
            " 18  relation                104 non-null    object\n",
            " 19  Class/ASD               104 non-null    int64 \n",
            "dtypes: int64(17), object(3)\n",
            "memory usage: 16.4+ KB\n"
          ]
        }
      ],
      "source": [
        "dt_f.info()"
      ]
    },
    {
      "cell_type": "code",
      "execution_count": null,
      "metadata": {
        "colab": {
          "base_uri": "https://localhost:8080/"
        },
        "id": "txAE6NKHoQXE",
        "outputId": "4847bdd5-94c5-4cab-9eef-daf4c0bf5b15"
      },
      "outputs": [
        {
          "output_type": "execute_result",
          "data": {
            "text/plain": [
              "White-European     40\n",
              "Others             18\n",
              "Asian              16\n",
              "Hispanic           10\n",
              "Middle Eastern      9\n",
              "Black               8\n",
              "South Asian         3\n",
              "Name: ethnicity, dtype: int64"
            ]
          },
          "metadata": {},
          "execution_count": 20
        }
      ],
      "source": [
        "dt_f['ethnicity'].value_counts()"
      ]
    },
    {
      "cell_type": "markdown",
      "metadata": {
        "id": "1vlMMW_xLbL4"
      },
      "source": [
        "**Exploratory Data Analysis**\n",
        "1. Getting insights about the dataset\n",
        "2. Handling missing values\n",
        "3. Data visualization\n",
        "4. Handling outliers"
      ]
    },
    {
      "cell_type": "code",
      "execution_count": null,
      "metadata": {
        "colab": {
          "base_uri": "https://localhost:8080/",
          "height": 723
        },
        "id": "JR_dCszpoS38",
        "outputId": "724c79de-eadf-4684-a4ab-03cc03002725"
      },
      "outputs": [
        {
          "output_type": "display_data",
          "data": {
            "text/plain": [
              "<Figure size 1080x720 with 2 Axes>"
            ],
            "image/png": "[encoded data removed]"
          },
          "metadata": {
            "needs_background": "light"
          }
        }
      ],
      "source": [
        "plt.figure(figsize=(15,10))\n",
        "sns.heatmap(dt_f.corr(),annot=True)\n",
        "plt.title('Heatmap of Variable Correlations')\n",
        "plt.show()"
      ]
    },
    {
      "cell_type": "markdown",
      "metadata": {
        "id": "ze4vxRNQoe89"
      },
      "source": [
        "ASD correlates with A9, A6, A5 and A4 scores. Also corelates highly with result which is expected."
      ]
    },
    {
      "cell_type": "code",
      "execution_count": null,
      "metadata": {
        "colab": {
          "base_uri": "https://localhost:8080/",
          "height": 350
        },
        "id": "32ZyF-Gdohp-",
        "outputId": "9e2951c1-03d4-4293-d0bf-4965dc12ab62"
      },
      "outputs": [
        {
          "output_type": "display_data",
          "data": {
            "text/plain": [
              "<Figure size 720x360 with 1 Axes>"
            ],
            "image/png": "[encoded data removed]"
          },
          "metadata": {
            "needs_background": "light"
          }
        }
      ],
      "source": [
        "plt.figure(figsize=(10,5))\n",
        "sns.barplot(x='gender',y='Class/ASD',data=dt_f)\n",
        "plt.title('data Spectrum Disorder vs Gender')\n",
        "plt.xlabel('Gender')\n",
        "plt.ylabel('data Spectrum Disorder')\n",
        "plt.show()"
      ]
    },
    {
      "cell_type": "code",
      "source": [
        "sns.countplot(x ='gender', hue = \"Class/ASD\", data = dt_f)\n",
        "\n",
        "# Show the plot\n",
        "plt.show()"
      ],
      "metadata": {
        "colab": {
          "base_uri": "https://localhost:8080/",
          "height": 279
        },
        "id": "GS0YuwwkIaEP",
        "outputId": "c819a551-3db2-4cd8-b7d4-f7dd723a53d1"
      },
      "execution_count": null,
      "outputs": [
        {
          "output_type": "display_data",
          "data": {
            "text/plain": [
              "<Figure size 432x288 with 1 Axes>"
            ],
            "image/png": "[encoded data removed]"
          },
          "metadata": {
            "needs_background": "light"
          }
        }
      ]
    },
    {
      "cell_type": "code",
      "execution_count": null,
      "metadata": {
        "colab": {
          "base_uri": "https://localhost:8080/",
          "height": 350
        },
        "id": "GYXJbvPOqbgs",
        "outputId": "ef27af6d-dc70-41cf-985b-eb47ff764aec"
      },
      "outputs": [
        {
          "output_type": "display_data",
          "data": {
            "text/plain": [
              "<Figure size 1080x360 with 1 Axes>"
            ],
            "image/png": "[encoded data removed]"
          },
          "metadata": {
            "needs_background": "light"
          }
        }
      ],
      "source": [
        "plt.figure(figsize=(15,5))\n",
        "sns.barplot(x='ethnicity',y='Class/ASD',data=dt_f)\n",
        "plt.title('Autism Spectrum Disorder vs Ethnicity')\n",
        "plt.xlabel('Ethnicity')\n",
        "plt.ylabel('Autism Spectrum Disorder')\n",
        "plt.show()"
      ]
    },
    {
      "cell_type": "code",
      "execution_count": null,
      "metadata": {
        "colab": {
          "base_uri": "https://localhost:8080/",
          "height": 350
        },
        "id": "dB4BehiEqnaU",
        "outputId": "18fccf7f-ef5b-4964-fdf5-13bffacf7b12"
      },
      "outputs": [
        {
          "output_type": "display_data",
          "data": {
            "text/plain": [
              "<Figure size 720x360 with 1 Axes>"
            ],
            "image/png": "[encoded data removed]"
          },
          "metadata": {
            "needs_background": "light"
          }
        }
      ],
      "source": [
        "plt.figure(figsize=(10,5))\n",
        "sns.barplot(x='jaundice',y='Class/ASD',data=dt_f)\n",
        "plt.title('Autism Spectrum Disorder vs Jaundice')\n",
        "plt.xlabel('Jaundice')\n",
        "plt.ylabel('Autism Spectrum Disorder')\n",
        "plt.show()"
      ]
    },
    {
      "cell_type": "code",
      "execution_count": null,
      "metadata": {
        "colab": {
          "base_uri": "https://localhost:8080/",
          "height": 350
        },
        "id": "_gtItB61qvts",
        "outputId": "aacbd115-2c20-4e53-dc08-6c67280ec53b"
      },
      "outputs": [
        {
          "output_type": "display_data",
          "data": {
            "text/plain": [
              "<Figure size 1080x360 with 1 Axes>"
            ],
            "image/png": "[encoded data removed]"
          },
          "metadata": {
            "needs_background": "light"
          }
        }
      ],
      "source": [
        "plt.figure(figsize=(15,5))\n",
        "sns.barplot(x='family member with PDD',y='Class/ASD',data=dt_f)\n",
        "plt.title('Autism Spectrum Disorder vs Family member with PDD')\n",
        "plt.xlabel('Family member with PDD')\n",
        "plt.ylabel('Autism Spectrum Disorder')\n",
        "plt.show()"
      ]
    },
    {
      "cell_type": "code",
      "execution_count": null,
      "metadata": {
        "colab": {
          "base_uri": "https://localhost:8080/",
          "height": 350
        },
        "id": "udnFH698raI0",
        "outputId": "888e47f5-c79c-4462-8556-85892f02c6e8"
      },
      "outputs": [
        {
          "output_type": "display_data",
          "data": {
            "text/plain": [
              "<Figure size 864x360 with 1 Axes>"
            ],
            "image/png": "[encoded data removed]"
          },
          "metadata": {
            "needs_background": "light"
          }
        }
      ],
      "source": [
        "plt.figure(figsize=(12,5))\n",
        "sns.barplot(x='relation',y='Class/ASD',data=dt_f)\n",
        "plt.title('Autism Spectrum Disorder vs Relation to the Examinee')\n",
        "plt.xlabel('Relation to the Examinee')\n",
        "plt.ylabel('Autism Spectrum Disorder')\n",
        "plt.show()"
      ]
    },
    {
      "cell_type": "code",
      "execution_count": null,
      "metadata": {
        "colab": {
          "base_uri": "https://localhost:8080/",
          "height": 350
        },
        "id": "ZYu7KAOErgUk",
        "outputId": "a32279c2-a7a6-4e83-f999-ff3e9f5752ff"
      },
      "outputs": [
        {
          "output_type": "display_data",
          "data": {
            "text/plain": [
              "<Figure size 720x360 with 1 Axes>"
            ],
            "image/png": "[encoded data removed]"
          },
          "metadata": {
            "needs_background": "light"
          }
        }
      ],
      "source": [
        "plt.figure(figsize=(10,5))\n",
        "sns.barplot(x='Class/ASD',y='age',data=dt_f)\n",
        "plt.title('Autism Spectrum Disorder vs Age')\n",
        "plt.ylabel('Age')\n",
        "plt.xlabel('Autism Spectrum Disorder')\n",
        "plt.show()"
      ]
    },
    {
      "cell_type": "code",
      "execution_count": null,
      "metadata": {
        "colab": {
          "base_uri": "https://localhost:8080/"
        },
        "id": "uSVoqA9brvC8",
        "outputId": "c68bc9b4-c118-4523-8f46-4724bfc035ef"
      },
      "outputs": [
        {
          "output_type": "execute_result",
          "data": {
            "text/plain": [
              "United Kingdom          29\n",
              "United States           12\n",
              "Argentina               11\n",
              "India                    7\n",
              "Austria                  5\n",
              "Indonesia                3\n",
              "Canada                   3\n",
              "Netherlands              2\n",
              "Egypt                    2\n",
              "AmericanSamoa            2\n",
              "Croatia                  2\n",
              "Albania                  2\n",
              "Australia                2\n",
              "Afghanistan              2\n",
              "Belgium                  2\n",
              "Bahamas                  1\n",
              "Ireland                  1\n",
              "Norway                   1\n",
              "Finland                  1\n",
              "Portugal                 1\n",
              "Comoros                  1\n",
              "Viet Nam                 1\n",
              "South Africa             1\n",
              "New Zealand              1\n",
              "Greenland                1\n",
              "United Arab Emirates     1\n",
              "France                   1\n",
              "Bangladesh               1\n",
              "Bahrain                  1\n",
              "Brazil                   1\n",
              "Azerbaijan               1\n",
              "Jordan                   1\n",
              "Anguilla                 1\n",
              "Name: country_of_res, dtype: int64"
            ]
          },
          "metadata": {},
          "execution_count": 29
        }
      ],
      "source": [
        "pd.set_option('display.max_rows', 100)\n",
        "dt_f['country_of_res'].value_counts()"
      ]
    },
    {
      "cell_type": "code",
      "execution_count": null,
      "metadata": {
        "colab": {
          "base_uri": "https://localhost:8080/"
        },
        "id": "VFUx9QHEr0QE",
        "outputId": "96aedfb0-bfe0-45ca-cb3d-25ef59cefcd1"
      },
      "outputs": [
        {
          "output_type": "execute_result",
          "data": {
            "text/plain": [
              "Others            52\n",
              "United Kingdom    29\n",
              "United States     12\n",
              "Argentina         11\n",
              "Name: country_of_res, dtype: int64"
            ]
          },
          "metadata": {},
          "execution_count": 30
        }
      ],
      "source": [
        "Autism_country_of_res = pd.DataFrame(dt_f['country_of_res'].value_counts())\n",
        "lis = list(Autism_country_of_res[Autism_country_of_res.country_of_res < 10].index)\n",
        "dt_f['country_of_res'] = dt_f['country_of_res'].apply(lambda x: 'Others' if x in lis else x)\n",
        "dt_f['country_of_res'].value_counts()"
      ]
    },
    {
      "cell_type": "code",
      "execution_count": null,
      "metadata": {
        "colab": {
          "base_uri": "https://localhost:8080/",
          "height": 350
        },
        "id": "9MYwJ0CbsFzE",
        "outputId": "229954bc-bf23-4562-9f2f-a8fcb0ec52ba"
      },
      "outputs": [
        {
          "output_type": "display_data",
          "data": {
            "text/plain": [
              "<Figure size 1080x360 with 1 Axes>"
            ],
            "image/png": "[encoded data removed]"
          },
          "metadata": {
            "needs_background": "light"
          }
        }
      ],
      "source": [
        "plt.figure(figsize=(15,5))\n",
        "sns.barplot(x='Class/ASD',y='country_of_res',data=dt_f)\n",
        "plt.title('Autism Spectrum Disorder vs Country')\n",
        "plt.ylabel('Country')\n",
        "plt.xlabel('Autism Spectrum Disorder')\n",
        "plt.show()"
      ]
    },
    {
      "cell_type": "markdown",
      "metadata": {
        "id": "lHUHnZTIsWta"
      },
      "source": [
        "#Model building\n",
        "We will build a model to predict the a case of ASD or not based on the features provided."
      ]
    },
    {
      "cell_type": "code",
      "execution_count": null,
      "metadata": {
        "colab": {
          "base_uri": "https://localhost:8080/"
        },
        "id": "PJF5f5qusNTM",
        "outputId": "6a147763-94cb-450d-ece4-ebc11a4ba2b7"
      },
      "outputs": [
        {
          "output_type": "stream",
          "name": "stdout",
          "text": [
            "<class 'pandas.core.frame.DataFrame'>\n",
            "RangeIndex: 104 entries, 0 to 103\n",
            "Data columns (total 20 columns):\n",
            " #   Column                  Non-Null Count  Dtype \n",
            "---  ------                  --------------  ----- \n",
            " 0   A1_Score                104 non-null    int64 \n",
            " 1   A2_Score                104 non-null    int64 \n",
            " 2   A3_Score                104 non-null    int64 \n",
            " 3   A4_Score                104 non-null    int64 \n",
            " 4   A5_Score                104 non-null    int64 \n",
            " 5   A6_Score                104 non-null    int64 \n",
            " 6   A7_Score                104 non-null    int64 \n",
            " 7   A8_Score                104 non-null    int64 \n",
            " 8   A9_Score                104 non-null    int64 \n",
            " 9   A10_Score               104 non-null    int64 \n",
            " 10  age                     104 non-null    int64 \n",
            " 11  gender                  104 non-null    int64 \n",
            " 12  ethnicity               104 non-null    object\n",
            " 13  jaundice                104 non-null    int64 \n",
            " 14  family member with PDD  104 non-null    int64 \n",
            " 15  country_of_res          104 non-null    object\n",
            " 16  used_app_before         104 non-null    int64 \n",
            " 17  result                  104 non-null    int64 \n",
            " 18  relation                104 non-null    object\n",
            " 19  Class/ASD               104 non-null    int64 \n",
            "dtypes: int64(17), object(3)\n",
            "memory usage: 16.4+ KB\n"
          ]
        }
      ],
      "source": [
        "dt_f.info()"
      ]
    },
    {
      "cell_type": "code",
      "execution_count": null,
      "metadata": {
        "id": "z_A5Bia5sR08"
      },
      "outputs": [],
      "source": [
        "temp = pd.get_dummies(dt_f['ethnicity'],drop_first=False)\n",
        "dt_f = pd.concat([dt_f,temp],axis=1)\n",
        "dt_f.drop('ethnicity',axis=1,inplace=True)\n",
        "\n",
        "temp = pd.get_dummies(dt_f['country_of_res'],drop_first=False)\n",
        "dt_f = pd.concat([dt_f,temp],axis=1)\n",
        "dt_f.drop('country_of_res',axis=1,inplace=True)\n",
        "\n",
        "temp = pd.get_dummies(dt_f['relation'],drop_first=False)\n",
        "dt_f = pd.concat([dt_f,temp],axis=1)\n",
        "dt_f.drop('relation',axis=1,inplace=True)"
      ]
    },
    {
      "cell_type": "code",
      "execution_count": null,
      "metadata": {
        "id": "0o72vaQtsoXa"
      },
      "outputs": [],
      "source": [
        "from sklearn.experimental import enable_iterative_imputer\n",
        "from sklearn.impute import IterativeImputer"
      ]
    },
    {
      "cell_type": "code",
      "execution_count": null,
      "metadata": {
        "id": "RIM82fu1srU8"
      },
      "outputs": [],
      "source": [
        "imputer = IterativeImputer()\n",
        "col = dt_f.columns\n",
        "dt_f = imputer.fit_transform(dt_f)\n",
        "dt_f = pd.DataFrame(dt_f,columns=col)"
      ]
    },
    {
      "cell_type": "code",
      "execution_count": null,
      "metadata": {
        "colab": {
          "base_uri": "https://localhost:8080/",
          "height": 317
        },
        "id": "XaFr0kHWs0d8",
        "outputId": "6c163482-b3fb-49cc-ad57-3e62371e3679"
      },
      "outputs": [
        {
          "output_type": "execute_result",
          "data": {
            "text/plain": [
              "   A1_Score  A2_Score  A3_Score  A4_Score  A5_Score  A6_Score  A7_Score  \\\n",
              "0       0.0       0.0       0.0       1.0       1.0       1.0       1.0   \n",
              "1       0.0       0.0       0.0       0.0       0.0       0.0       0.0   \n",
              "2       0.0       0.0       0.0       0.0       0.0       0.0       0.0   \n",
              "3       0.0       1.0       1.0       1.0       1.0       1.0       0.0   \n",
              "4       1.0       1.0       1.0       1.0       1.0       1.0       1.0   \n",
              "\n",
              "   A8_Score  A9_Score  A10_Score  ...  Argentina  Others  United Kingdom  \\\n",
              "0       1.0       1.0        0.0  ...        0.0     1.0             0.0   \n",
              "1       0.0       1.0        1.0  ...        0.0     1.0             0.0   \n",
              "2       0.0       1.0        1.0  ...        0.0     1.0             0.0   \n",
              "3       1.0       1.0        0.0  ...        0.0     0.0             1.0   \n",
              "4       0.0       0.0        0.0  ...        0.0     1.0             0.0   \n",
              "\n",
              "   United States  Caregiver  Health care professional  Others  Parent  \\\n",
              "0            0.0        0.0                       0.0     0.0     1.0   \n",
              "1            0.0        0.0                       0.0     0.0     0.0   \n",
              "2            0.0        1.0                       0.0     0.0     0.0   \n",
              "3            0.0        0.0                       0.0     0.0     0.0   \n",
              "4            0.0        1.0                       0.0     0.0     0.0   \n",
              "\n",
              "   Relative  Self  \n",
              "0       0.0   0.0  \n",
              "1       1.0   0.0  \n",
              "2       0.0   0.0  \n",
              "3       0.0   1.0  \n",
              "4       0.0   0.0  \n",
              "\n",
              "[5 rows x 34 columns]"
            ],
            "text/html": [
              "\n",
              "  <div id=\"df-5f39f03d-9e25-4fbb-8fd2-13ebc4580d5a\">\n",
              "    <div class=\"colab-df-container\">\n",
              "      <div>\n",
              "<style scoped>\n",
              "    .dataframe tbody tr th:only-of-type {\n",
              "        vertical-align: middle;\n",
              "    }\n",
              "\n",
              "    .dataframe tbody tr th {\n",
              "        vertical-align: top;\n",
              "    }\n",
              "\n",
              "    .dataframe thead th {\n",
              "        text-align: right;\n",
              "    }\n",
              "</style>\n",
              "<table border=\"1\" class=\"dataframe\">\n",
              "  <thead>\n",
              "    <tr style=\"text-align: right;\">\n",
              "      <th></th>\n",
              "      <th>A1_Score</th>\n",
              "      <th>A2_Score</th>\n",
              "      <th>A3_Score</th>\n",
              "      <th>A4_Score</th>\n",
              "      <th>A5_Score</th>\n",
              "      <th>A6_Score</th>\n",
              "      <th>A7_Score</th>\n",
              "      <th>A8_Score</th>\n",
              "      <th>A9_Score</th>\n",
              "      <th>A10_Score</th>\n",
              "      <th>...</th>\n",
              "      <th>Argentina</th>\n",
              "      <th>Others</th>\n",
              "      <th>United Kingdom</th>\n",
              "      <th>United States</th>\n",
              "      <th>Caregiver</th>\n",
              "      <th>Health care professional</th>\n",
              "      <th>Others</th>\n",
              "      <th>Parent</th>\n",
              "      <th>Relative</th>\n",
              "      <th>Self</th>\n",
              "    </tr>\n",
              "  </thead>\n",
              "  <tbody>\n",
              "    <tr>\n",
              "      <th>0</th>\n",
              "      <td>0.0</td>\n",
              "      <td>0.0</td>\n",
              "      <td>0.0</td>\n",
              "      <td>1.0</td>\n",
              "      <td>1.0</td>\n",
              "      <td>1.0</td>\n",
              "      <td>1.0</td>\n",
              "      <td>1.0</td>\n",
              "      <td>1.0</td>\n",
              "      <td>0.0</td>\n",
              "      <td>...</td>\n",
              "      <td>0.0</td>\n",
              "      <td>1.0</td>\n",
              "      <td>0.0</td>\n",
              "      <td>0.0</td>\n",
              "      <td>0.0</td>\n",
              "      <td>0.0</td>\n",
              "      <td>0.0</td>\n",
              "      <td>1.0</td>\n",
              "      <td>0.0</td>\n",
              "      <td>0.0</td>\n",
              "    </tr>\n",
              "    <tr>\n",
              "      <th>1</th>\n",
              "      <td>0.0</td>\n",
              "      <td>0.0</td>\n",
              "      <td>0.0</td>\n",
              "      <td>0.0</td>\n",
              "      <td>0.0</td>\n",
              "      <td>0.0</td>\n",
              "      <td>0.0</td>\n",
              "      <td>0.0</td>\n",
              "      <td>1.0</td>\n",
              "      <td>1.0</td>\n",
              "      <td>...</td>\n",
              "      <td>0.0</td>\n",
              "      <td>1.0</td>\n",
              "      <td>0.0</td>\n",
              "      <td>0.0</td>\n",
              "      <td>0.0</td>\n",
              "      <td>0.0</td>\n",
              "      <td>0.0</td>\n",
              "      <td>0.0</td>\n",
              "      <td>1.0</td>\n",
              "      <td>0.0</td>\n",
              "    </tr>\n",
              "    <tr>\n",
              "      <th>2</th>\n",
              "      <td>0.0</td>\n",
              "      <td>0.0</td>\n",
              "      <td>0.0</td>\n",
              "      <td>0.0</td>\n",
              "      <td>0.0</td>\n",
              "      <td>0.0</td>\n",
              "      <td>0.0</td>\n",
              "      <td>0.0</td>\n",
              "      <td>1.0</td>\n",
              "      <td>1.0</td>\n",
              "      <td>...</td>\n",
              "      <td>0.0</td>\n",
              "      <td>1.0</td>\n",
              "      <td>0.0</td>\n",
              "      <td>0.0</td>\n",
              "      <td>1.0</td>\n",
              "      <td>0.0</td>\n",
              "      <td>0.0</td>\n",
              "      <td>0.0</td>\n",
              "      <td>0.0</td>\n",
              "      <td>0.0</td>\n",
              "    </tr>\n",
              "    <tr>\n",
              "      <th>3</th>\n",
              "      <td>0.0</td>\n",
              "      <td>1.0</td>\n",
              "      <td>1.0</td>\n",
              "      <td>1.0</td>\n",
              "      <td>1.0</td>\n",
              "      <td>1.0</td>\n",
              "      <td>0.0</td>\n",
              "      <td>1.0</td>\n",
              "      <td>1.0</td>\n",
              "      <td>0.0</td>\n",
              "      <td>...</td>\n",
              "      <td>0.0</td>\n",
              "      <td>0.0</td>\n",
              "      <td>1.0</td>\n",
              "      <td>0.0</td>\n",
              "      <td>0.0</td>\n",
              "      <td>0.0</td>\n",
              "      <td>0.0</td>\n",
              "      <td>0.0</td>\n",
              "      <td>0.0</td>\n",
              "      <td>1.0</td>\n",
              "    </tr>\n",
              "    <tr>\n",
              "      <th>4</th>\n",
              "      <td>1.0</td>\n",
              "      <td>1.0</td>\n",
              "      <td>1.0</td>\n",
              "      <td>1.0</td>\n",
              "      <td>1.0</td>\n",
              "      <td>1.0</td>\n",
              "      <td>1.0</td>\n",
              "      <td>0.0</td>\n",
              "      <td>0.0</td>\n",
              "      <td>0.0</td>\n",
              "      <td>...</td>\n",
              "      <td>0.0</td>\n",
              "      <td>1.0</td>\n",
              "      <td>0.0</td>\n",
              "      <td>0.0</td>\n",
              "      <td>1.0</td>\n",
              "      <td>0.0</td>\n",
              "      <td>0.0</td>\n",
              "      <td>0.0</td>\n",
              "      <td>0.0</td>\n",
              "      <td>0.0</td>\n",
              "    </tr>\n",
              "  </tbody>\n",
              "</table>\n",
              "<p>5 rows × 34 columns</p>\n",
              "</div>\n",
              "      <button class=\"colab-df-convert\" onclick=\"convertToInteractive('df-5f39f03d-9e25-4fbb-8fd2-13ebc4580d5a')\"\n",
              "              title=\"Convert this dataframe to an interactive table.\"\n",
              "              style=\"display:none;\">\n",
              "        \n",
              "  <svg xmlns=\"http://www.w3.org/2000/svg\" height=\"24px\"viewBox=\"0 0 24 24\"\n",
              "       width=\"24px\">\n",
              "    <path d=\"M0 0h24v24H0V0z\" fill=\"none\"/>\n",
              "    <path d=\"M18.56 5.44l.94 2.06.94-2.06 2.06-.94-2.06-.94-.94-2.06-.94 2.06-2.06.94zm-11 1L8.5 8.5l.94-2.06 2.06-.94-2.06-.94L8.5 2.5l-.94 2.06-2.06.94zm10 10l.94 2.06.94-2.06 2.06-.94-2.06-.94-.94-2.06-.94 2.06-2.06.94z\"/><path d=\"M17.41 7.96l-1.37-1.37c-.4-.4-.92-.59-1.43-.59-.52 0-1.04.2-1.43.59L10.3 9.45l-7.72 7.72c-.78.78-.78 2.05 0 2.83L4 21.41c.39.39.9.59 1.41.59.51 0 1.02-.2 1.41-.59l7.78-7.78 2.81-2.81c.8-.78.8-2.07 0-2.86zM5.41 20L4 18.59l7.72-7.72 1.47 1.35L5.41 20z\"/>\n",
              "  </svg>\n",
              "      </button>\n",
              "      \n",
              "  <style>\n",
              "    .colab-df-container {\n",
              "      display:flex;\n",
              "      flex-wrap:wrap;\n",
              "      gap: 12px;\n",
              "    }\n",
              "\n",
              "    .colab-df-convert {\n",
              "      background-color: #E8F0FE;\n",
              "      border: none;\n",
              "      border-radius: 50%;\n",
              "      cursor: pointer;\n",
              "      display: none;\n",
              "      fill: #1967D2;\n",
              "      height: 32px;\n",
              "      padding: 0 0 0 0;\n",
              "      width: 32px;\n",
              "    }\n",
              "\n",
              "    .colab-df-convert:hover {\n",
              "      background-color: #E2EBFA;\n",
              "      box-shadow: 0px 1px 2px rgba(60, 64, 67, 0.3), 0px 1px 3px 1px rgba(60, 64, 67, 0.15);\n",
              "      fill: #174EA6;\n",
              "    }\n",
              "\n",
              "    [theme=dark] .colab-df-convert {\n",
              "      background-color: #3B4455;\n",
              "      fill: #D2E3FC;\n",
              "    }\n",
              "\n",
              "    [theme=dark] .colab-df-convert:hover {\n",
              "      background-color: #434B5C;\n",
              "      box-shadow: 0px 1px 3px 1px rgba(0, 0, 0, 0.15);\n",
              "      filter: drop-shadow(0px 1px 2px rgba(0, 0, 0, 0.3));\n",
              "      fill: #FFFFFF;\n",
              "    }\n",
              "  </style>\n",
              "\n",
              "      <script>\n",
              "        const buttonEl =\n",
              "          document.querySelector('#df-5f39f03d-9e25-4fbb-8fd2-13ebc4580d5a button.colab-df-convert');\n",
              "        buttonEl.style.display =\n",
              "          google.colab.kernel.accessAllowed ? 'block' : 'none';\n",
              "\n",
              "        async function convertToInteractive(key) {\n",
              "          const element = document.querySelector('#df-5f39f03d-9e25-4fbb-8fd2-13ebc4580d5a');\n",
              "          const dataTable =\n",
              "            await google.colab.kernel.invokeFunction('convertToInteractive',\n",
              "                                                     [key], {});\n",
              "          if (!dataTable) return;\n",
              "\n",
              "          const docLinkHtml = 'Like what you see? Visit the ' +\n",
              "            '<a target=\"_blank\" href=https://colab.research.google.com/notebooks/data_table.ipynb>data table notebook</a>'\n",
              "            + ' to learn more about interactive tables.';\n",
              "          element.innerHTML = '';\n",
              "          dataTable['output_type'] = 'display_data';\n",
              "          await google.colab.output.renderOutput(dataTable, element);\n",
              "          const docLink = document.createElement('div');\n",
              "          docLink.innerHTML = docLinkHtml;\n",
              "          element.appendChild(docLink);\n",
              "        }\n",
              "      </script>\n",
              "    </div>\n",
              "  </div>\n",
              "  "
            ]
          },
          "metadata": {},
          "execution_count": 36
        }
      ],
      "source": [
        "dt_f.head()"
      ]
    },
    {
      "cell_type": "code",
      "execution_count": null,
      "metadata": {
        "colab": {
          "base_uri": "https://localhost:8080/"
        },
        "id": "o_KwxcXYs8nT",
        "outputId": "a9d26cd2-b0a9-40c4-d47c-9bcfbdeae4c2"
      },
      "outputs": [
        {
          "output_type": "execute_result",
          "data": {
            "text/plain": [
              "16.0    31\n",
              "12.0    25\n",
              "15.0    18\n",
              "13.0    16\n",
              "14.0    14\n",
              "Name: age, dtype: int64"
            ]
          },
          "metadata": {},
          "execution_count": 37
        }
      ],
      "source": [
        "dt_f.age.value_counts()\n",
        "dt_f.age = dt_f.age.round(decimals=0)\n",
        "dt_f.age.value_counts()"
      ]
    },
    {
      "cell_type": "code",
      "execution_count": null,
      "metadata": {
        "colab": {
          "base_uri": "https://localhost:8080/"
        },
        "id": "bBaFiTW1tHQU",
        "outputId": "73e409b6-9d2f-4fd8-dc38-c5cf1bb2e5c1"
      },
      "outputs": [
        {
          "output_type": "execute_result",
          "data": {
            "text/plain": [
              "1.0    63\n",
              "0.0    41\n",
              "Name: Class/ASD, dtype: int64"
            ]
          },
          "metadata": {},
          "execution_count": 38
        }
      ],
      "source": [
        "dt_f['Class/ASD'].value_counts()"
      ]
    },
    {
      "cell_type": "markdown",
      "metadata": {
        "id": "KDjV14EktNZd"
      },
      "source": [
        "Dropping the result column as it is an amalgamation of the A1 to 10 columns."
      ]
    },
    {
      "cell_type": "code",
      "execution_count": null,
      "metadata": {
        "colab": {
          "base_uri": "https://localhost:8080/",
          "height": 317
        },
        "id": "d5neS16vtKNV",
        "outputId": "d9b0dc34-0640-401d-e33b-66f0891db6a8"
      },
      "outputs": [
        {
          "output_type": "execute_result",
          "data": {
            "text/plain": [
              "    A1_Score  A2_Score  A3_Score  A4_Score  A5_Score  A6_Score  A7_Score  \\\n",
              "83       1.0       1.0       0.0       1.0       1.0       1.0       0.0   \n",
              "86       1.0       1.0       1.0       1.0       1.0       1.0       1.0   \n",
              "48       1.0       1.0       1.0       0.0       1.0       1.0       1.0   \n",
              "36       1.0       0.0       1.0       1.0       1.0       1.0       1.0   \n",
              "10       1.0       0.0       0.0       0.0       1.0       1.0       0.0   \n",
              "\n",
              "    A8_Score  A9_Score  A10_Score  ...  Argentina  Others  United Kingdom  \\\n",
              "83       0.0       1.0        0.0  ...        0.0     1.0             0.0   \n",
              "86       0.0       1.0        1.0  ...        0.0     1.0             0.0   \n",
              "48       1.0       1.0        1.0  ...        0.0     1.0             0.0   \n",
              "36       1.0       1.0        1.0  ...        0.0     0.0             0.0   \n",
              "10       1.0       1.0        0.0  ...        0.0     1.0             0.0   \n",
              "\n",
              "    United States  Caregiver  Health care professional  Others  Parent  \\\n",
              "83            0.0        0.0                       0.0     0.0     0.0   \n",
              "86            0.0        0.0                       0.0     0.0     0.0   \n",
              "48            0.0        0.0                       0.0     0.0     1.0   \n",
              "36            1.0        0.0                       0.0     0.0     0.0   \n",
              "10            0.0        0.0                       0.0     0.0     1.0   \n",
              "\n",
              "    Relative  Self  \n",
              "83       0.0   1.0  \n",
              "86       1.0   0.0  \n",
              "48       0.0   0.0  \n",
              "36       0.0   1.0  \n",
              "10       0.0   0.0  \n",
              "\n",
              "[5 rows x 32 columns]"
            ],
            "text/html": [
              "\n",
              "  <div id=\"df-a0497fdb-b88c-4cda-a3eb-0e1aec13f0dd\">\n",
              "    <div class=\"colab-df-container\">\n",
              "      <div>\n",
              "<style scoped>\n",
              "    .dataframe tbody tr th:only-of-type {\n",
              "        vertical-align: middle;\n",
              "    }\n",
              "\n",
              "    .dataframe tbody tr th {\n",
              "        vertical-align: top;\n",
              "    }\n",
              "\n",
              "    .dataframe thead th {\n",
              "        text-align: right;\n",
              "    }\n",
              "</style>\n",
              "<table border=\"1\" class=\"dataframe\">\n",
              "  <thead>\n",
              "    <tr style=\"text-align: right;\">\n",
              "      <th></th>\n",
              "      <th>A1_Score</th>\n",
              "      <th>A2_Score</th>\n",
              "      <th>A3_Score</th>\n",
              "      <th>A4_Score</th>\n",
              "      <th>A5_Score</th>\n",
              "      <th>A6_Score</th>\n",
              "      <th>A7_Score</th>\n",
              "      <th>A8_Score</th>\n",
              "      <th>A9_Score</th>\n",
              "      <th>A10_Score</th>\n",
              "      <th>...</th>\n",
              "      <th>Argentina</th>\n",
              "      <th>Others</th>\n",
              "      <th>United Kingdom</th>\n",
              "      <th>United States</th>\n",
              "      <th>Caregiver</th>\n",
              "      <th>Health care professional</th>\n",
              "      <th>Others</th>\n",
              "      <th>Parent</th>\n",
              "      <th>Relative</th>\n",
              "      <th>Self</th>\n",
              "    </tr>\n",
              "  </thead>\n",
              "  <tbody>\n",
              "    <tr>\n",
              "      <th>83</th>\n",
              "      <td>1.0</td>\n",
              "      <td>1.0</td>\n",
              "      <td>0.0</td>\n",
              "      <td>1.0</td>\n",
              "      <td>1.0</td>\n",
              "      <td>1.0</td>\n",
              "      <td>0.0</td>\n",
              "      <td>0.0</td>\n",
              "      <td>1.0</td>\n",
              "      <td>0.0</td>\n",
              "      <td>...</td>\n",
              "      <td>0.0</td>\n",
              "      <td>1.0</td>\n",
              "      <td>0.0</td>\n",
              "      <td>0.0</td>\n",
              "      <td>0.0</td>\n",
              "      <td>0.0</td>\n",
              "      <td>0.0</td>\n",
              "      <td>0.0</td>\n",
              "      <td>0.0</td>\n",
              "      <td>1.0</td>\n",
              "    </tr>\n",
              "    <tr>\n",
              "      <th>86</th>\n",
              "      <td>1.0</td>\n",
              "      <td>1.0</td>\n",
              "      <td>1.0</td>\n",
              "      <td>1.0</td>\n",
              "      <td>1.0</td>\n",
              "      <td>1.0</td>\n",
              "      <td>1.0</td>\n",
              "      <td>0.0</td>\n",
              "      <td>1.0</td>\n",
              "      <td>1.0</td>\n",
              "      <td>...</td>\n",
              "      <td>0.0</td>\n",
              "      <td>1.0</td>\n",
              "      <td>0.0</td>\n",
              "      <td>0.0</td>\n",
              "      <td>0.0</td>\n",
              "      <td>0.0</td>\n",
              "      <td>0.0</td>\n",
              "      <td>0.0</td>\n",
              "      <td>1.0</td>\n",
              "      <td>0.0</td>\n",
              "    </tr>\n",
              "    <tr>\n",
              "      <th>48</th>\n",
              "      <td>1.0</td>\n",
              "      <td>1.0</td>\n",
              "      <td>1.0</td>\n",
              "      <td>0.0</td>\n",
              "      <td>1.0</td>\n",
              "      <td>1.0</td>\n",
              "      <td>1.0</td>\n",
              "      <td>1.0</td>\n",
              "      <td>1.0</td>\n",
              "      <td>1.0</td>\n",
              "      <td>...</td>\n",
              "      <td>0.0</td>\n",
              "      <td>1.0</td>\n",
              "      <td>0.0</td>\n",
              "      <td>0.0</td>\n",
              "      <td>0.0</td>\n",
              "      <td>0.0</td>\n",
              "      <td>0.0</td>\n",
              "      <td>1.0</td>\n",
              "      <td>0.0</td>\n",
              "      <td>0.0</td>\n",
              "    </tr>\n",
              "    <tr>\n",
              "      <th>36</th>\n",
              "      <td>1.0</td>\n",
              "      <td>0.0</td>\n",
              "      <td>1.0</td>\n",
              "      <td>1.0</td>\n",
              "      <td>1.0</td>\n",
              "      <td>1.0</td>\n",
              "      <td>1.0</td>\n",
              "      <td>1.0</td>\n",
              "      <td>1.0</td>\n",
              "      <td>1.0</td>\n",
              "      <td>...</td>\n",
              "      <td>0.0</td>\n",
              "      <td>0.0</td>\n",
              "      <td>0.0</td>\n",
              "      <td>1.0</td>\n",
              "      <td>0.0</td>\n",
              "      <td>0.0</td>\n",
              "      <td>0.0</td>\n",
              "      <td>0.0</td>\n",
              "      <td>0.0</td>\n",
              "      <td>1.0</td>\n",
              "    </tr>\n",
              "    <tr>\n",
              "      <th>10</th>\n",
              "      <td>1.0</td>\n",
              "      <td>0.0</td>\n",
              "      <td>0.0</td>\n",
              "      <td>0.0</td>\n",
              "      <td>1.0</td>\n",
              "      <td>1.0</td>\n",
              "      <td>0.0</td>\n",
              "      <td>1.0</td>\n",
              "      <td>1.0</td>\n",
              "      <td>0.0</td>\n",
              "      <td>...</td>\n",
              "      <td>0.0</td>\n",
              "      <td>1.0</td>\n",
              "      <td>0.0</td>\n",
              "      <td>0.0</td>\n",
              "      <td>0.0</td>\n",
              "      <td>0.0</td>\n",
              "      <td>0.0</td>\n",
              "      <td>1.0</td>\n",
              "      <td>0.0</td>\n",
              "      <td>0.0</td>\n",
              "    </tr>\n",
              "  </tbody>\n",
              "</table>\n",
              "<p>5 rows × 32 columns</p>\n",
              "</div>\n",
              "      <button class=\"colab-df-convert\" onclick=\"convertToInteractive('df-a0497fdb-b88c-4cda-a3eb-0e1aec13f0dd')\"\n",
              "              title=\"Convert this dataframe to an interactive table.\"\n",
              "              style=\"display:none;\">\n",
              "        \n",
              "  <svg xmlns=\"http://www.w3.org/2000/svg\" height=\"24px\"viewBox=\"0 0 24 24\"\n",
              "       width=\"24px\">\n",
              "    <path d=\"M0 0h24v24H0V0z\" fill=\"none\"/>\n",
              "    <path d=\"M18.56 5.44l.94 2.06.94-2.06 2.06-.94-2.06-.94-.94-2.06-.94 2.06-2.06.94zm-11 1L8.5 8.5l.94-2.06 2.06-.94-2.06-.94L8.5 2.5l-.94 2.06-2.06.94zm10 10l.94 2.06.94-2.06 2.06-.94-2.06-.94-.94-2.06-.94 2.06-2.06.94z\"/><path d=\"M17.41 7.96l-1.37-1.37c-.4-.4-.92-.59-1.43-.59-.52 0-1.04.2-1.43.59L10.3 9.45l-7.72 7.72c-.78.78-.78 2.05 0 2.83L4 21.41c.39.39.9.59 1.41.59.51 0 1.02-.2 1.41-.59l7.78-7.78 2.81-2.81c.8-.78.8-2.07 0-2.86zM5.41 20L4 18.59l7.72-7.72 1.47 1.35L5.41 20z\"/>\n",
              "  </svg>\n",
              "      </button>\n",
              "      \n",
              "  <style>\n",
              "    .colab-df-container {\n",
              "      display:flex;\n",
              "      flex-wrap:wrap;\n",
              "      gap: 12px;\n",
              "    }\n",
              "\n",
              "    .colab-df-convert {\n",
              "      background-color: #E8F0FE;\n",
              "      border: none;\n",
              "      border-radius: 50%;\n",
              "      cursor: pointer;\n",
              "      display: none;\n",
              "      fill: #1967D2;\n",
              "      height: 32px;\n",
              "      padding: 0 0 0 0;\n",
              "      width: 32px;\n",
              "    }\n",
              "\n",
              "    .colab-df-convert:hover {\n",
              "      background-color: #E2EBFA;\n",
              "      box-shadow: 0px 1px 2px rgba(60, 64, 67, 0.3), 0px 1px 3px 1px rgba(60, 64, 67, 0.15);\n",
              "      fill: #174EA6;\n",
              "    }\n",
              "\n",
              "    [theme=dark] .colab-df-convert {\n",
              "      background-color: #3B4455;\n",
              "      fill: #D2E3FC;\n",
              "    }\n",
              "\n",
              "    [theme=dark] .colab-df-convert:hover {\n",
              "      background-color: #434B5C;\n",
              "      box-shadow: 0px 1px 3px 1px rgba(0, 0, 0, 0.15);\n",
              "      filter: drop-shadow(0px 1px 2px rgba(0, 0, 0, 0.3));\n",
              "      fill: #FFFFFF;\n",
              "    }\n",
              "  </style>\n",
              "\n",
              "      <script>\n",
              "        const buttonEl =\n",
              "          document.querySelector('#df-a0497fdb-b88c-4cda-a3eb-0e1aec13f0dd button.colab-df-convert');\n",
              "        buttonEl.style.display =\n",
              "          google.colab.kernel.accessAllowed ? 'block' : 'none';\n",
              "\n",
              "        async function convertToInteractive(key) {\n",
              "          const element = document.querySelector('#df-a0497fdb-b88c-4cda-a3eb-0e1aec13f0dd');\n",
              "          const dataTable =\n",
              "            await google.colab.kernel.invokeFunction('convertToInteractive',\n",
              "                                                     [key], {});\n",
              "          if (!dataTable) return;\n",
              "\n",
              "          const docLinkHtml = 'Like what you see? Visit the ' +\n",
              "            '<a target=\"_blank\" href=https://colab.research.google.com/notebooks/data_table.ipynb>data table notebook</a>'\n",
              "            + ' to learn more about interactive tables.';\n",
              "          element.innerHTML = '';\n",
              "          dataTable['output_type'] = 'display_data';\n",
              "          await google.colab.output.renderOutput(dataTable, element);\n",
              "          const docLink = document.createElement('div');\n",
              "          docLink.innerHTML = docLinkHtml;\n",
              "          element.appendChild(docLink);\n",
              "        }\n",
              "      </script>\n",
              "    </div>\n",
              "  </div>\n",
              "  "
            ]
          },
          "metadata": {},
          "execution_count": 39
        }
      ],
      "source": [
        "X = dt_f.drop(['Class/ASD','result'],axis=1)\n",
        "y = dt_f['Class/ASD']\n",
        "from sklearn.model_selection import train_test_split\n",
        "X_train, X_test, y_train, y_test = train_test_split(X,y,train_size=0.75,random_state=True)\n",
        "X_train.head()"
      ]
    },
    {
      "cell_type": "code",
      "execution_count": null,
      "metadata": {
        "colab": {
          "base_uri": "https://localhost:8080/",
          "height": 317
        },
        "id": "9PzB6o9ywZXj",
        "outputId": "cc04d691-6d73-43cf-b1a0-e79d762a7742"
      },
      "outputs": [
        {
          "output_type": "execute_result",
          "data": {
            "text/plain": [
              "    A1_Score  A2_Score  A3_Score  A4_Score  A5_Score  A6_Score  A7_Score  \\\n",
              "96       1.0       1.0       1.0       1.0       1.0       1.0       1.0   \n",
              "35       1.0       1.0       1.0       1.0       0.0       1.0       1.0   \n",
              "81       1.0       0.0       0.0       0.0       1.0       1.0       0.0   \n",
              "59       1.0       1.0       1.0       1.0       1.0       1.0       1.0   \n",
              "38       0.0       0.0       1.0       1.0       1.0       1.0       1.0   \n",
              "\n",
              "    A8_Score  A9_Score  A10_Score  ...  Argentina  Others  United Kingdom  \\\n",
              "96       1.0       0.0        0.0  ...        0.0     1.0             0.0   \n",
              "35       1.0       1.0        1.0  ...        0.0     1.0             0.0   \n",
              "81       1.0       0.0        0.0  ...        0.0     1.0             0.0   \n",
              "59       1.0       1.0        1.0  ...        1.0     0.0             0.0   \n",
              "38       1.0       1.0        1.0  ...        0.0     0.0             0.0   \n",
              "\n",
              "    United States  Caregiver  Health care professional  Others  Parent  \\\n",
              "96            0.0        0.0                       1.0     0.0     0.0   \n",
              "35            0.0        0.0                       0.0     0.0     0.0   \n",
              "81            0.0        0.0                       0.0     0.0     0.0   \n",
              "59            0.0        0.0                       0.0     0.0     0.0   \n",
              "38            1.0        0.0                       0.0     0.0     0.0   \n",
              "\n",
              "    Relative  Self  \n",
              "96       0.0   0.0  \n",
              "35       0.0   1.0  \n",
              "81       0.0   1.0  \n",
              "59       0.0   1.0  \n",
              "38       1.0   0.0  \n",
              "\n",
              "[5 rows x 32 columns]"
            ],
            "text/html": [
              "\n",
              "  <div id=\"df-7803d2fc-330b-4624-b5d3-0194806975b0\">\n",
              "    <div class=\"colab-df-container\">\n",
              "      <div>\n",
              "<style scoped>\n",
              "    .dataframe tbody tr th:only-of-type {\n",
              "        vertical-align: middle;\n",
              "    }\n",
              "\n",
              "    .dataframe tbody tr th {\n",
              "        vertical-align: top;\n",
              "    }\n",
              "\n",
              "    .dataframe thead th {\n",
              "        text-align: right;\n",
              "    }\n",
              "</style>\n",
              "<table border=\"1\" class=\"dataframe\">\n",
              "  <thead>\n",
              "    <tr style=\"text-align: right;\">\n",
              "      <th></th>\n",
              "      <th>A1_Score</th>\n",
              "      <th>A2_Score</th>\n",
              "      <th>A3_Score</th>\n",
              "      <th>A4_Score</th>\n",
              "      <th>A5_Score</th>\n",
              "      <th>A6_Score</th>\n",
              "      <th>A7_Score</th>\n",
              "      <th>A8_Score</th>\n",
              "      <th>A9_Score</th>\n",
              "      <th>A10_Score</th>\n",
              "      <th>...</th>\n",
              "      <th>Argentina</th>\n",
              "      <th>Others</th>\n",
              "      <th>United Kingdom</th>\n",
              "      <th>United States</th>\n",
              "      <th>Caregiver</th>\n",
              "      <th>Health care professional</th>\n",
              "      <th>Others</th>\n",
              "      <th>Parent</th>\n",
              "      <th>Relative</th>\n",
              "      <th>Self</th>\n",
              "    </tr>\n",
              "  </thead>\n",
              "  <tbody>\n",
              "    <tr>\n",
              "      <th>96</th>\n",
              "      <td>1.0</td>\n",
              "      <td>1.0</td>\n",
              "      <td>1.0</td>\n",
              "      <td>1.0</td>\n",
              "      <td>1.0</td>\n",
              "      <td>1.0</td>\n",
              "      <td>1.0</td>\n",
              "      <td>1.0</td>\n",
              "      <td>0.0</td>\n",
              "      <td>0.0</td>\n",
              "      <td>...</td>\n",
              "      <td>0.0</td>\n",
              "      <td>1.0</td>\n",
              "      <td>0.0</td>\n",
              "      <td>0.0</td>\n",
              "      <td>0.0</td>\n",
              "      <td>1.0</td>\n",
              "      <td>0.0</td>\n",
              "      <td>0.0</td>\n",
              "      <td>0.0</td>\n",
              "      <td>0.0</td>\n",
              "    </tr>\n",
              "    <tr>\n",
              "      <th>35</th>\n",
              "      <td>1.0</td>\n",
              "      <td>1.0</td>\n",
              "      <td>1.0</td>\n",
              "      <td>1.0</td>\n",
              "      <td>0.0</td>\n",
              "      <td>1.0</td>\n",
              "      <td>1.0</td>\n",
              "      <td>1.0</td>\n",
              "      <td>1.0</td>\n",
              "      <td>1.0</td>\n",
              "      <td>...</td>\n",
              "      <td>0.0</td>\n",
              "      <td>1.0</td>\n",
              "      <td>0.0</td>\n",
              "      <td>0.0</td>\n",
              "      <td>0.0</td>\n",
              "      <td>0.0</td>\n",
              "      <td>0.0</td>\n",
              "      <td>0.0</td>\n",
              "      <td>0.0</td>\n",
              "      <td>1.0</td>\n",
              "    </tr>\n",
              "    <tr>\n",
              "      <th>81</th>\n",
              "      <td>1.0</td>\n",
              "      <td>0.0</td>\n",
              "      <td>0.0</td>\n",
              "      <td>0.0</td>\n",
              "      <td>1.0</td>\n",
              "      <td>1.0</td>\n",
              "      <td>0.0</td>\n",
              "      <td>1.0</td>\n",
              "      <td>0.0</td>\n",
              "      <td>0.0</td>\n",
              "      <td>...</td>\n",
              "      <td>0.0</td>\n",
              "      <td>1.0</td>\n",
              "      <td>0.0</td>\n",
              "      <td>0.0</td>\n",
              "      <td>0.0</td>\n",
              "      <td>0.0</td>\n",
              "      <td>0.0</td>\n",
              "      <td>0.0</td>\n",
              "      <td>0.0</td>\n",
              "      <td>1.0</td>\n",
              "    </tr>\n",
              "    <tr>\n",
              "      <th>59</th>\n",
              "      <td>1.0</td>\n",
              "      <td>1.0</td>\n",
              "      <td>1.0</td>\n",
              "      <td>1.0</td>\n",
              "      <td>1.0</td>\n",
              "      <td>1.0</td>\n",
              "      <td>1.0</td>\n",
              "      <td>1.0</td>\n",
              "      <td>1.0</td>\n",
              "      <td>1.0</td>\n",
              "      <td>...</td>\n",
              "      <td>1.0</td>\n",
              "      <td>0.0</td>\n",
              "      <td>0.0</td>\n",
              "      <td>0.0</td>\n",
              "      <td>0.0</td>\n",
              "      <td>0.0</td>\n",
              "      <td>0.0</td>\n",
              "      <td>0.0</td>\n",
              "      <td>0.0</td>\n",
              "      <td>1.0</td>\n",
              "    </tr>\n",
              "    <tr>\n",
              "      <th>38</th>\n",
              "      <td>0.0</td>\n",
              "      <td>0.0</td>\n",
              "      <td>1.0</td>\n",
              "      <td>1.0</td>\n",
              "      <td>1.0</td>\n",
              "      <td>1.0</td>\n",
              "      <td>1.0</td>\n",
              "      <td>1.0</td>\n",
              "      <td>1.0</td>\n",
              "      <td>1.0</td>\n",
              "      <td>...</td>\n",
              "      <td>0.0</td>\n",
              "      <td>0.0</td>\n",
              "      <td>0.0</td>\n",
              "      <td>1.0</td>\n",
              "      <td>0.0</td>\n",
              "      <td>0.0</td>\n",
              "      <td>0.0</td>\n",
              "      <td>0.0</td>\n",
              "      <td>1.0</td>\n",
              "      <td>0.0</td>\n",
              "    </tr>\n",
              "  </tbody>\n",
              "</table>\n",
              "<p>5 rows × 32 columns</p>\n",
              "</div>\n",
              "      <button class=\"colab-df-convert\" onclick=\"convertToInteractive('df-7803d2fc-330b-4624-b5d3-0194806975b0')\"\n",
              "              title=\"Convert this dataframe to an interactive table.\"\n",
              "              style=\"display:none;\">\n",
              "        \n",
              "  <svg xmlns=\"http://www.w3.org/2000/svg\" height=\"24px\"viewBox=\"0 0 24 24\"\n",
              "       width=\"24px\">\n",
              "    <path d=\"M0 0h24v24H0V0z\" fill=\"none\"/>\n",
              "    <path d=\"M18.56 5.44l.94 2.06.94-2.06 2.06-.94-2.06-.94-.94-2.06-.94 2.06-2.06.94zm-11 1L8.5 8.5l.94-2.06 2.06-.94-2.06-.94L8.5 2.5l-.94 2.06-2.06.94zm10 10l.94 2.06.94-2.06 2.06-.94-2.06-.94-.94-2.06-.94 2.06-2.06.94z\"/><path d=\"M17.41 7.96l-1.37-1.37c-.4-.4-.92-.59-1.43-.59-.52 0-1.04.2-1.43.59L10.3 9.45l-7.72 7.72c-.78.78-.78 2.05 0 2.83L4 21.41c.39.39.9.59 1.41.59.51 0 1.02-.2 1.41-.59l7.78-7.78 2.81-2.81c.8-.78.8-2.07 0-2.86zM5.41 20L4 18.59l7.72-7.72 1.47 1.35L5.41 20z\"/>\n",
              "  </svg>\n",
              "      </button>\n",
              "      \n",
              "  <style>\n",
              "    .colab-df-container {\n",
              "      display:flex;\n",
              "      flex-wrap:wrap;\n",
              "      gap: 12px;\n",
              "    }\n",
              "\n",
              "    .colab-df-convert {\n",
              "      background-color: #E8F0FE;\n",
              "      border: none;\n",
              "      border-radius: 50%;\n",
              "      cursor: pointer;\n",
              "      display: none;\n",
              "      fill: #1967D2;\n",
              "      height: 32px;\n",
              "      padding: 0 0 0 0;\n",
              "      width: 32px;\n",
              "    }\n",
              "\n",
              "    .colab-df-convert:hover {\n",
              "      background-color: #E2EBFA;\n",
              "      box-shadow: 0px 1px 2px rgba(60, 64, 67, 0.3), 0px 1px 3px 1px rgba(60, 64, 67, 0.15);\n",
              "      fill: #174EA6;\n",
              "    }\n",
              "\n",
              "    [theme=dark] .colab-df-convert {\n",
              "      background-color: #3B4455;\n",
              "      fill: #D2E3FC;\n",
              "    }\n",
              "\n",
              "    [theme=dark] .colab-df-convert:hover {\n",
              "      background-color: #434B5C;\n",
              "      box-shadow: 0px 1px 3px 1px rgba(0, 0, 0, 0.15);\n",
              "      filter: drop-shadow(0px 1px 2px rgba(0, 0, 0, 0.3));\n",
              "      fill: #FFFFFF;\n",
              "    }\n",
              "  </style>\n",
              "\n",
              "      <script>\n",
              "        const buttonEl =\n",
              "          document.querySelector('#df-7803d2fc-330b-4624-b5d3-0194806975b0 button.colab-df-convert');\n",
              "        buttonEl.style.display =\n",
              "          google.colab.kernel.accessAllowed ? 'block' : 'none';\n",
              "\n",
              "        async function convertToInteractive(key) {\n",
              "          const element = document.querySelector('#df-7803d2fc-330b-4624-b5d3-0194806975b0');\n",
              "          const dataTable =\n",
              "            await google.colab.kernel.invokeFunction('convertToInteractive',\n",
              "                                                     [key], {});\n",
              "          if (!dataTable) return;\n",
              "\n",
              "          const docLinkHtml = 'Like what you see? Visit the ' +\n",
              "            '<a target=\"_blank\" href=https://colab.research.google.com/notebooks/data_table.ipynb>data table notebook</a>'\n",
              "            + ' to learn more about interactive tables.';\n",
              "          element.innerHTML = '';\n",
              "          dataTable['output_type'] = 'display_data';\n",
              "          await google.colab.output.renderOutput(dataTable, element);\n",
              "          const docLink = document.createElement('div');\n",
              "          docLink.innerHTML = docLinkHtml;\n",
              "          element.appendChild(docLink);\n",
              "        }\n",
              "      </script>\n",
              "    </div>\n",
              "  </div>\n",
              "  "
            ]
          },
          "metadata": {},
          "execution_count": 40
        }
      ],
      "source": [
        "X_test.head()"
      ]
    },
    {
      "cell_type": "code",
      "execution_count": null,
      "metadata": {
        "colab": {
          "base_uri": "https://localhost:8080/"
        },
        "id": "EuUDeiivz6r1",
        "outputId": "97e34e0f-0bde-4f3d-cf49-9760df11a470"
      },
      "outputs": [
        {
          "output_type": "stream",
          "name": "stdout",
          "text": [
            "Train: (78, 32), (78,)\n",
            "Test: (26, 32), (26,)\n"
          ]
        }
      ],
      "source": [
        "print(f\"Train: {X_train.shape}, {y_train.shape}\")\n",
        "print(f\"Test: {X_test.shape}, {y_test.shape}\")"
      ]
    },
    {
      "cell_type": "code",
      "execution_count": null,
      "metadata": {
        "id": "FmCZZeOvtV8V"
      },
      "outputs": [],
      "source": [
        "from sklearn.neural_network import MLPClassifier\n",
        "from sklearn.tree import DecisionTreeClassifier\n"
      ]
    },
    {
      "cell_type": "code",
      "execution_count": null,
      "metadata": {
        "id": "jqsPGVUcu0qt"
      },
      "outputs": [],
      "source": [
        "from sklearn.model_selection import cross_val_score"
      ]
    },
    {
      "cell_type": "code",
      "execution_count": null,
      "metadata": {
        "colab": {
          "base_uri": "https://localhost:8080/"
        },
        "id": "xHQ4INzZt97E",
        "outputId": "caa6034d-5425-483b-957a-6e319c1ec471"
      },
      "outputs": [
        {
          "output_type": "execute_result",
          "data": {
            "text/plain": [
              "array([0.95      , 0.85      , 0.84210526, 0.78947368])"
            ]
          },
          "metadata": {},
          "execution_count": 44
        }
      ],
      "source": [
        "model1 = MLPClassifier(alpha=1, max_iter=500)\n",
        "model1.fit(X_train.astype(float), y_train.astype(float))\n",
        "cross_val_score(model1, X_train, y_train, cv=4, scoring='accuracy')"
      ]
    },
    {
      "cell_type": "code",
      "execution_count": null,
      "metadata": {
        "colab": {
          "base_uri": "https://localhost:8080/"
        },
        "id": "QNJTBAFovZIa",
        "outputId": "07b26f1d-0e50-45fa-ac3a-77dc35c51acf"
      },
      "outputs": [
        {
          "output_type": "execute_result",
          "data": {
            "text/plain": [
              "array([0.55      , 0.6       , 0.73684211, 0.73684211])"
            ]
          },
          "metadata": {},
          "execution_count": 45
        }
      ],
      "source": [
        "model2 = DecisionTreeClassifier(max_depth=5)\n",
        "model2.fit(X_train.astype(float), y_train.astype(float))\n",
        "cross_val_score(model2, X_train, y_train, cv=4, scoring='accuracy')"
      ]
    },
    {
      "cell_type": "code",
      "execution_count": null,
      "metadata": {
        "id": "A8sjz-QKyynG"
      },
      "outputs": [],
      "source": [
        "from sklearn.metrics import accuracy_score, confusion_matrix, classification_report\n"
      ]
    },
    {
      "cell_type": "code",
      "execution_count": null,
      "metadata": {
        "colab": {
          "base_uri": "https://localhost:8080/",
          "height": 798
        },
        "id": "I5l09Y-lwxCS",
        "outputId": "2fcc8742-bbc9-4e7d-d07c-71f973a36bfc"
      },
      "outputs": [
        {
          "output_type": "stream",
          "name": "stdout",
          "text": [
            "Accuracy on train data by MLP Classifier: 100.0\n",
            "Accuracy on test data by MLP Classifier: 92.3076923076923\n"
          ]
        },
        {
          "output_type": "display_data",
          "data": {
            "text/plain": [
              "<Figure size 720x720 with 2 Axes>"
            ],
            "image/png": "[encoded data removed]"
          },
          "metadata": {
            "needs_background": "light"
          }
        },
        {
          "output_type": "stream",
          "name": "stdout",
          "text": [
            "              precision    recall  f1-score   support\n",
            "\n",
            "         0.0       0.89      0.89      0.89         9\n",
            "         1.0       0.94      0.94      0.94        17\n",
            "\n",
            "    accuracy                           0.92        26\n",
            "   macro avg       0.92      0.92      0.92        26\n",
            "weighted avg       0.92      0.92      0.92        26\n",
            "\n"
          ]
        }
      ],
      "source": [
        "preds1 = model1.predict(X_test)\n",
        "print(f\"Accuracy on train data by MLP Classifier: {accuracy_score(y_train, model1.predict(X_train))*100}\")\n",
        "\n",
        "print(f\"Accuracy on test data by MLP Classifier: {accuracy_score(y_test, preds1)*100}\")\n",
        "\n",
        "cf_matrix = confusion_matrix(y_test, preds1)\n",
        "plt.figure(figsize=(10,10))\n",
        "sns.heatmap(cf_matrix, annot=True)\n",
        "plt.title(\"Confusion Matrix for MLP Classifier on Test Data\")\n",
        "plt.show()\n",
        "#Showing Precesion, Recall and F1 score\n",
        "print(classification_report(y_test, preds1))"
      ]
    },
    {
      "cell_type": "code",
      "source": [
        "from sklearn.metrics import mean_squared_error\n",
        "from math import sqrt\n",
        "\n",
        "#calculate RMSE\n",
        "sqrt(mean_squared_error(y_test, preds1))"
      ],
      "metadata": {
        "colab": {
          "base_uri": "https://localhost:8080/"
        },
        "id": "UBz7MoZ_rNu4",
        "outputId": "4ba71e20-82ec-4910-dab4-aaf0c21ac619"
      },
      "execution_count": null,
      "outputs": [
        {
          "output_type": "execute_result",
          "data": {
            "text/plain": [
              "0.2773500981126146"
            ]
          },
          "metadata": {},
          "execution_count": 48
        }
      ]
    },
    {
      "cell_type": "code",
      "execution_count": null,
      "metadata": {
        "colab": {
          "base_uri": "https://localhost:8080/",
          "height": 798
        },
        "id": "I67uT9JmvO_W",
        "outputId": "1c5665cc-d75b-45a4-c8d2-72c9e9c52d1b"
      },
      "outputs": [
        {
          "output_type": "stream",
          "name": "stdout",
          "text": [
            "Accuracy on train data by Decision Tree Classifier: 100.0\n",
            "Accuracy on test data by Decision Tree Classifier: 92.3076923076923\n"
          ]
        },
        {
          "output_type": "display_data",
          "data": {
            "text/plain": [
              "<Figure size 720x720 with 2 Axes>"
            ],
            "image/png": "[encoded data removed]"
          },
          "metadata": {
            "needs_background": "light"
          }
        },
        {
          "output_type": "stream",
          "name": "stdout",
          "text": [
            "              precision    recall  f1-score   support\n",
            "\n",
            "         0.0       0.89      0.89      0.89         9\n",
            "         1.0       0.94      0.94      0.94        17\n",
            "\n",
            "    accuracy                           0.92        26\n",
            "   macro avg       0.92      0.92      0.92        26\n",
            "weighted avg       0.92      0.92      0.92        26\n",
            "\n"
          ]
        }
      ],
      "source": [
        "preds3 = model2.predict(X_test)\n",
        "print(f\"Accuracy on train data by Decision Tree Classifier: {accuracy_score(y_train, model1.predict(X_train))*100}\")\n",
        "\n",
        "print(f\"Accuracy on test data by Decision Tree Classifier: {accuracy_score(y_test, preds3)*100}\")\n",
        "\n",
        "cf_matrix = confusion_matrix(y_test, preds3)\n",
        "plt.figure(figsize=(10,10))\n",
        "sns.heatmap(cf_matrix, annot=True)\n",
        "plt.title(\"Confusion Matrix for MLP Classifier on Test Data\")\n",
        "plt.show()\n",
        "#Showing Precesion, Recall and F1 score\n",
        "print(classification_report(y_test, preds3))"
      ]
    },
    {
      "cell_type": "code",
      "source": [
        "from sklearn.metrics import mean_squared_error\n",
        "from math import sqrt\n",
        "\n",
        "#calculate RMSE\n",
        "sqrt(mean_squared_error(y_test, preds3))"
      ],
      "metadata": {
        "colab": {
          "base_uri": "https://localhost:8080/"
        },
        "id": "Ec-bBiR0rbQ_",
        "outputId": "6d128c96-0231-4563-cfff-b1f9644f5fe4"
      },
      "execution_count": null,
      "outputs": [
        {
          "output_type": "execute_result",
          "data": {
            "text/plain": [
              "0.2773500981126146"
            ]
          },
          "metadata": {},
          "execution_count": 50
        }
      ]
    },
    {
      "cell_type": "code",
      "source": [
        "from sklearn.linear_model import LogisticRegression"
      ],
      "metadata": {
        "id": "6RclYoFimU4u"
      },
      "execution_count": null,
      "outputs": []
    },
    {
      "cell_type": "code",
      "source": [
        "model3 =  LogisticRegression()\n",
        "model3.fit(X_train.astype(float), y_train.astype(float))\n",
        "cross_val_score(model3, X_train, y_train, cv=4, scoring='accuracy')"
      ],
      "metadata": {
        "colab": {
          "base_uri": "https://localhost:8080/"
        },
        "id": "soXbMqrgiI9m",
        "outputId": "971390a2-e421-4382-ab11-c532f8f2f0c4"
      },
      "execution_count": null,
      "outputs": [
        {
          "output_type": "execute_result",
          "data": {
            "text/plain": [
              "array([0.85      , 0.85      , 1.        , 0.89473684])"
            ]
          },
          "metadata": {},
          "execution_count": 52
        }
      ]
    },
    {
      "cell_type": "code",
      "source": [
        "preds2 = model3.predict(X_test)\n",
        "print(f\"Accuracy on train data by Logistic Regression: {accuracy_score(y_train, model3.predict(X_train))*100}\")\n",
        "\n",
        "print(f\"Accuracy on test data by Logistic Regression: {accuracy_score(y_test, preds2)*100}\")\n",
        "\n",
        "cf_matrix = confusion_matrix(y_test, preds2)\n",
        "plt.figure(figsize=(10,10))\n",
        "sns.heatmap(cf_matrix, annot=True)\n",
        "plt.title(\"Confusion Matrix for Logistic Regression on Test Data\")\n",
        "plt.show()\n",
        "#Showing Precesion, Recall and F1 score\n",
        "print(classification_report(y_test, preds2))"
      ],
      "metadata": {
        "colab": {
          "base_uri": "https://localhost:8080/",
          "height": 798
        },
        "id": "Ncwt1vDAiQTG",
        "outputId": "456c3c62-7e38-417b-ae13-a8b1df72a702"
      },
      "execution_count": null,
      "outputs": [
        {
          "output_type": "stream",
          "name": "stdout",
          "text": [
            "Accuracy on train data by Logistic Regression: 98.71794871794873\n",
            "Accuracy on test data by Logistic Regression: 96.15384615384616\n"
          ]
        },
        {
          "output_type": "display_data",
          "data": {
            "text/plain": [
              "<Figure size 720x720 with 2 Axes>"
            ],
            "image/png": "[encoded data removed]"
          },
          "metadata": {
            "needs_background": "light"
          }
        },
        {
          "output_type": "stream",
          "name": "stdout",
          "text": [
            "              precision    recall  f1-score   support\n",
            "\n",
            "         0.0       0.90      1.00      0.95         9\n",
            "         1.0       1.00      0.94      0.97        17\n",
            "\n",
            "    accuracy                           0.96        26\n",
            "   macro avg       0.95      0.97      0.96        26\n",
            "weighted avg       0.97      0.96      0.96        26\n",
            "\n"
          ]
        }
      ]
    },
    {
      "cell_type": "code",
      "source": [
        "from sklearn.metrics import mean_squared_error\n",
        "from math import sqrt\n",
        "\n",
        "#calculate RMSE\n",
        "sqrt(mean_squared_error(y_test, preds2))"
      ],
      "metadata": {
        "colab": {
          "base_uri": "https://localhost:8080/"
        },
        "id": "6oKL5T3lrgKw",
        "outputId": "9d580f65-6880-4f88-dd69-d3e38b368faa"
      },
      "execution_count": null,
      "outputs": [
        {
          "output_type": "execute_result",
          "data": {
            "text/plain": [
              "0.19611613513818404"
            ]
          },
          "metadata": {},
          "execution_count": 54
        }
      ]
    },
    {
      "cell_type": "code",
      "execution_count": null,
      "metadata": {
        "id": "wOTEyHn0d-7I"
      },
      "outputs": [],
      "source": [
        "from sklearn.ensemble import AdaBoostClassifier\n",
        "abc = AdaBoostClassifier()\n",
        "abc.fit(X_train, y_train)\n",
        "y_pred_abc = abc.predict(X_test)\n"
      ]
    },
    {
      "cell_type": "code",
      "execution_count": null,
      "metadata": {
        "colab": {
          "base_uri": "https://localhost:8080/"
        },
        "id": "Nv7zLGXceKcP",
        "outputId": "de0d930f-83f1-4ae5-e221-21bcffad75ae"
      },
      "outputs": [
        {
          "output_type": "stream",
          "name": "stdout",
          "text": [
            "[[ 9  0]\n",
            " [ 1 16]]\n",
            "0.9615384615384616\n"
          ]
        }
      ],
      "source": [
        "from sklearn.metrics import confusion_matrix, accuracy_score\n",
        "cm = confusion_matrix(y_test, y_pred_abc)\n",
        "print (cm)\n",
        "acc_abc = accuracy_score(y_test, y_pred_abc)\n",
        "print (acc_abc)"
      ]
    },
    {
      "cell_type": "markdown",
      "metadata": {
        "id": "JstZZ5S4AvJq"
      },
      "source": [
        "Train the model means create the model.\n",
        "\n",
        "Test the model means test the accuracy of the model."
      ]
    }
  ],
  "metadata": {
    "colab": {
      "provenance": []
    },
    "kernelspec": {
      "display_name": "Python 3",
      "name": "python3"
    },
    "language_info": {
      "name": "python"
    }
  },
  "nbformat": 4,
  "nbformat_minor": 0
}