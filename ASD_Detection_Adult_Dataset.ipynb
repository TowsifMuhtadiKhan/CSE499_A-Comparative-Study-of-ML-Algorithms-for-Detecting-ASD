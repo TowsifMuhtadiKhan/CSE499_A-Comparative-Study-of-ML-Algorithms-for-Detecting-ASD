{
  "cells": [
    {
      "cell_type": "code",
      "execution_count": null,
      "metadata": {
        "id": "tb7Si0gHRg8g"
      },
      "outputs": [],
      "source": [
        "import pandas as pd\n",
        "import numpy as np\n",
        "import matplotlib.pyplot as plt\n",
        "import seaborn as sns\n",
        "\n",
        "import warnings\n",
        "warnings.filterwarnings('ignore')"
      ]
    },
    {
      "cell_type": "code",
      "execution_count": null,
      "metadata": {
        "id": "QCyese9QzeXm"
      },
      "outputs": [],
      "source": [
        "from google.colab import drive\n",
        "drive.mount('/content/drive')"
      ]
    },
    {
      "cell_type": "code",
      "execution_count": null,
      "metadata": {
        "id": "rbucy4WCzma2"
      },
      "outputs": [],
      "source": [
        "dt_f = pd.read_csv('/content/drive/My Drive/Dataset/Adult-Adolescents-Child Datasets/Autism-Adult-Data.csv')"
      ]
    },
    {
      "cell_type": "code",
      "execution_count": null,
      "metadata": {
        "id": "ZUE5kJLk0mzv"
      },
      "outputs": [],
      "source": [
        "dt_f"
      ]
    },
    {
      "cell_type": "code",
      "execution_count": null,
      "metadata": {
        "id": "uHkC8y8ClC_G"
      },
      "outputs": [],
      "source": [
        "dt_f.info()"
      ]
    },
    {
      "cell_type": "code",
      "execution_count": null,
      "metadata": {
        "id": "ZxLMAfnX1BV9"
      },
      "outputs": [],
      "source": [
        "dt_f.dtypes"
      ]
    },
    {
      "cell_type": "code",
      "execution_count": null,
      "metadata": {
        "id": "7c3246Az1FVM"
      },
      "outputs": [],
      "source": [
        "dt_f.head(10)"
      ]
    },
    {
      "cell_type": "code",
      "execution_count": null,
      "metadata": {
        "id": "P1AhPobZ0uXF"
      },
      "outputs": [],
      "source": [
        "dt_f.describe()"
      ]
    },
    {
      "cell_type": "markdown",
      "metadata": {
        "id": "tes7x14X1LOz"
      },
      "source": [
        "# **Data Cleaning**"
      ]
    },
    {
      "cell_type": "markdown",
      "metadata": {
        "id": "Oo8cDLKO1PQc"
      },
      "source": [
        "**Checking Missing Values**"
      ]
    },
    {
      "cell_type": "code",
      "execution_count": null,
      "metadata": {
        "id": "rDlKY4-O05i9"
      },
      "outputs": [],
      "source": [
        "dt_f.apply(lambda x: sum(x.isnull()))"
      ]
    },
    {
      "cell_type": "code",
      "execution_count": null,
      "metadata": {
        "id": "jum1B8g-8Mfy"
      },
      "outputs": [],
      "source": [
        "categorical_val = []\n",
        "continous_val = []\n",
        "for column in dt_f.columns:\n",
        "    print('==============================')\n",
        "    print(f\"{column} : {dt_f[column].unique()}\")\n",
        "    if len(dt_f[column].unique()) <= 10:\n",
        "        categorical_val.append(column)\n",
        "    else:\n",
        "        continous_val.append(column)"
      ]
    },
    {
      "cell_type": "code",
      "execution_count": null,
      "metadata": {
        "id": "_eHvDK0b4PK8"
      },
      "outputs": [],
      "source": [
        "dt_f.nunique()"
      ]
    },
    {
      "cell_type": "code",
      "execution_count": null,
      "metadata": {
        "id": "vz5Vy2GDlPd9"
      },
      "outputs": [],
      "source": [
        "dt_f['Class/ASD'].value_counts()"
      ]
    },
    {
      "cell_type": "code",
      "execution_count": null,
      "metadata": {
        "id": "HRDdaSVqlcwe"
      },
      "outputs": [],
      "source": [
        "dt_f.drop('age_desc',axis=1,inplace=True)\n",
        "dt_f.drop('id', axis=1, inplace=True)\n",
        "dt_f.head()"
      ]
    },
    {
      "cell_type": "code",
      "execution_count": null,
      "metadata": {
        "id": "R5qW5V7GmsCe"
      },
      "outputs": [],
      "source": [
        "dt_f = dt_f.rename(columns={'austim':'family member with PDD','jundice':'jaundice','contry_of_res':'country_of_res'})"
      ]
    },
    {
      "cell_type": "code",
      "execution_count": null,
      "metadata": {
        "id": "gJlKSXxLllcu"
      },
      "outputs": [],
      "source": [
        "dt_f['age'] = dt_f['age'].replace(['?'],'NaN')\n",
        "dt_f['gender'] = dt_f['gender'].map({'m':1,'f':0})\n",
        "dt_f['jaundice'] = dt_f['jaundice'].map({'yes':1,'no':0})\n",
        "dt_f['family member with PDD'] = dt_f['family member with PDD'].map({'yes':1,'no':0})\n",
        "dt_f['used_app_before'] = dt_f['used_app_before'].map({'yes':1,'no':0})\n",
        "dt_f['Class/ASD'] = dt_f['Class/ASD'].map({'YES':1,'NO':0})"
      ]
    },
    {
      "cell_type": "code",
      "execution_count": null,
      "metadata": {
        "id": "FLPAqRJ-nrou"
      },
      "outputs": [],
      "source": [
        "dt_f.info()"
      ]
    },
    {
      "cell_type": "code",
      "execution_count": null,
      "metadata": {
        "id": "JV2TNiMan5te"
      },
      "outputs": [],
      "source": [
        "dt_f['ethnicity'] = dt_f['ethnicity'].apply(lambda x: 'Others' if x == '?' else x)\n",
        "dt_f['ethnicity'] = dt_f['ethnicity'].apply(lambda x: 'Others' if x == 'others' else x)\n",
        "dt_f['ethnicity'] = dt_f['ethnicity'].apply(lambda x: 'Hispanic' if x == 'Latino' else x)"
      ]
    },
    {
      "cell_type": "code",
      "execution_count": null,
      "metadata": {
        "id": "sw63I1ASoD-F"
      },
      "outputs": [],
      "source": [
        "dt_f['relation'] = dt_f['relation'].apply(lambda x: 'Caregiver' if x == '?' else x)"
      ]
    },
    {
      "cell_type": "code",
      "execution_count": null,
      "metadata": {
        "id": "vLdpdPHUoLM9"
      },
      "outputs": [],
      "source": [
        "dt_f.info()"
      ]
    },
    {
      "cell_type": "code",
      "execution_count": null,
      "metadata": {
        "id": "txAE6NKHoQXE"
      },
      "outputs": [],
      "source": [
        "dt_f['ethnicity'].value_counts()"
      ]
    },
    {
      "cell_type": "markdown",
      "metadata": {
        "id": "1vlMMW_xLbL4"
      },
      "source": [
        "**Exploratory Data Analysis**\n",
        "1. Getting insights about the dataset\n",
        "2. Handling missing values\n",
        "3. Data visualization\n",
        "4. Handling outliers"
      ]
    },
    {
      "cell_type": "code",
      "execution_count": null,
      "metadata": {
        "id": "JR_dCszpoS38"
      },
      "outputs": [],
      "source": [
        "plt.figure(figsize=(15,10))\n",
        "sns.heatmap(dt_f.corr(),annot=True)\n",
        "plt.title('Heatmap of Variable Correlations')\n",
        "plt.show()"
      ]
    },
    {
      "cell_type": "markdown",
      "metadata": {
        "id": "ze4vxRNQoe89"
      },
      "source": [
        "ASD correlates with A9, A6, A5 and A4 scores. Also corelates highly with result which is expected."
      ]
    },
    {
      "cell_type": "code",
      "execution_count": null,
      "metadata": {
        "id": "32ZyF-Gdohp-"
      },
      "outputs": [],
      "source": [
        "plt.figure(figsize=(10,5))\n",
        "sns.barplot(x='gender',y='Class/ASD',data=dt_f)\n",
        "plt.title('data Spectrum Disorder vs Gender')\n",
        "plt.xlabel('Gender')\n",
        "plt.ylabel('data Spectrum Disorder')\n",
        "plt.show()"
      ]
    },
    {
      "cell_type": "code",
      "source": [
        "sns.countplot(x ='gender', hue = \"Class/ASD\", data = dt_f)\n",
        "\n",
        "# Show the plot\n",
        "plt.show()"
      ],
      "metadata": {
        "id": "SgYKr7IDHh7i"
      },
      "execution_count": null,
      "outputs": []
    },
    {
      "cell_type": "code",
      "execution_count": null,
      "metadata": {
        "id": "GYXJbvPOqbgs"
      },
      "outputs": [],
      "source": [
        "plt.figure(figsize=(15,5))\n",
        "sns.barplot(x='ethnicity',y='Class/ASD',data=dt_f)\n",
        "plt.title('Autism Spectrum Disorder vs Ethnicity')\n",
        "plt.xlabel('Ethnicity')\n",
        "plt.ylabel('Autism Spectrum Disorder')\n",
        "plt.show()"
      ]
    },
    {
      "cell_type": "code",
      "execution_count": null,
      "metadata": {
        "id": "dB4BehiEqnaU"
      },
      "outputs": [],
      "source": [
        "plt.figure(figsize=(10,5))\n",
        "sns.barplot(x='jaundice',y='Class/ASD',data=dt_f)\n",
        "plt.title('Autism Spectrum Disorder vs Jaundice')\n",
        "plt.xlabel('Jaundice')\n",
        "plt.ylabel('Autism Spectrum Disorder')\n",
        "plt.show()"
      ]
    },
    {
      "cell_type": "code",
      "execution_count": null,
      "metadata": {
        "id": "_gtItB61qvts"
      },
      "outputs": [],
      "source": [
        "plt.figure(figsize=(15,5))\n",
        "sns.barplot(x='family member with PDD',y='Class/ASD',data=dt_f)\n",
        "plt.title('Autism Spectrum Disorder vs Family member with PDD')\n",
        "plt.xlabel('Family member with PDD')\n",
        "plt.ylabel('Autism Spectrum Disorder')\n",
        "plt.show()"
      ]
    },
    {
      "cell_type": "code",
      "execution_count": null,
      "metadata": {
        "id": "udnFH698raI0"
      },
      "outputs": [],
      "source": [
        "plt.figure(figsize=(15,5))\n",
        "sns.barplot(x='relation',y='Class/ASD',data=dt_f)\n",
        "plt.title('Autism Spectrum Disorder vs Relation to the Examinee')\n",
        "plt.xlabel('Relation to the Examinee')\n",
        "plt.ylabel('Autism Spectrum Disorder')\n",
        "plt.show()"
      ]
    },
    {
      "cell_type": "code",
      "execution_count": null,
      "metadata": {
        "id": "ZYu7KAOErgUk"
      },
      "outputs": [],
      "source": [
        "plt.figure(figsize=(10,5))\n",
        "sns.barplot(x='Class/ASD',y='age',data=dt_f)\n",
        "plt.title('Autism Spectrum Disorder vs Age')\n",
        "plt.ylabel('Age')\n",
        "plt.xlabel('Autism Spectrum Disorder')\n",
        "plt.show()"
      ]
    },
    {
      "cell_type": "code",
      "execution_count": null,
      "metadata": {
        "id": "uSVoqA9brvC8"
      },
      "outputs": [],
      "source": [
        "pd.set_option('display.max_rows', 100)\n",
        "dt_f['country_of_res'].value_counts()"
      ]
    },
    {
      "cell_type": "code",
      "execution_count": null,
      "metadata": {
        "id": "VFUx9QHEr0QE"
      },
      "outputs": [],
      "source": [
        "Autism_country_of_res = pd.DataFrame(dt_f['country_of_res'].value_counts())\n",
        "lis = list(Autism_country_of_res[Autism_country_of_res.country_of_res < 10].index)\n",
        "dt_f['country_of_res'] = dt_f['country_of_res'].apply(lambda x: 'Others' if x in lis else x)\n",
        "dt_f['country_of_res'].value_counts()"
      ]
    },
    {
      "cell_type": "code",
      "execution_count": null,
      "metadata": {
        "id": "9MYwJ0CbsFzE"
      },
      "outputs": [],
      "source": [
        "plt.figure(figsize=(15,5))\n",
        "sns.barplot(x='Class/ASD',y='country_of_res',data=dt_f)\n",
        "plt.title('Autism Spectrum Disorder vs Country')\n",
        "plt.ylabel('Country')\n",
        "plt.xlabel('Autism Spectrum Disorder')\n",
        "plt.show()"
      ]
    },
    {
      "cell_type": "markdown",
      "metadata": {
        "id": "lHUHnZTIsWta"
      },
      "source": [
        "#Model building\n",
        "We will build a model to predict the a case of ASD or not based on the features provided."
      ]
    },
    {
      "cell_type": "code",
      "execution_count": null,
      "metadata": {
        "id": "PJF5f5qusNTM"
      },
      "outputs": [],
      "source": [
        "dt_f.info()"
      ]
    },
    {
      "cell_type": "code",
      "execution_count": null,
      "metadata": {
        "id": "z_A5Bia5sR08"
      },
      "outputs": [],
      "source": [
        "temp = pd.get_dummies(dt_f['ethnicity'],drop_first=False)\n",
        "dt_f = pd.concat([dt_f,temp],axis=1)\n",
        "dt_f.drop('ethnicity',axis=1,inplace=True)\n",
        "\n",
        "temp = pd.get_dummies(dt_f['country_of_res'],drop_first=False)\n",
        "dt_f = pd.concat([dt_f,temp],axis=1)\n",
        "dt_f.drop('country_of_res',axis=1,inplace=True)\n",
        "\n",
        "temp = pd.get_dummies(dt_f['relation'],drop_first=False)\n",
        "dt_f = pd.concat([dt_f,temp],axis=1)\n",
        "dt_f.drop('relation',axis=1,inplace=True)"
      ]
    },
    {
      "cell_type": "code",
      "execution_count": null,
      "metadata": {
        "id": "0o72vaQtsoXa"
      },
      "outputs": [],
      "source": [
        "from sklearn.experimental import enable_iterative_imputer\n",
        "from sklearn.impute import IterativeImputer"
      ]
    },
    {
      "cell_type": "code",
      "execution_count": null,
      "metadata": {
        "id": "RIM82fu1srU8"
      },
      "outputs": [],
      "source": [
        "imputer = IterativeImputer()\n",
        "col = dt_f.columns\n",
        "dt_f = imputer.fit_transform(dt_f)\n",
        "dt_f = pd.DataFrame(dt_f,columns=col)"
      ]
    },
    {
      "cell_type": "code",
      "execution_count": null,
      "metadata": {
        "id": "XaFr0kHWs0d8"
      },
      "outputs": [],
      "source": [
        "dt_f.head()"
      ]
    },
    {
      "cell_type": "code",
      "execution_count": null,
      "metadata": {
        "id": "o_KwxcXYs8nT"
      },
      "outputs": [],
      "source": [
        "dt_f.age.value_counts()\n",
        "dt_f.age = dt_f.age.round(decimals=0)\n",
        "dt_f.age.value_counts()"
      ]
    },
    {
      "cell_type": "code",
      "execution_count": null,
      "metadata": {
        "id": "bBaFiTW1tHQU"
      },
      "outputs": [],
      "source": [
        "dt_f['Class/ASD'].value_counts()"
      ]
    },
    {
      "cell_type": "markdown",
      "metadata": {
        "id": "KDjV14EktNZd"
      },
      "source": [
        "Dropping the result column as it is an amalgamation of the A1 to 10 columns."
      ]
    },
    {
      "cell_type": "code",
      "execution_count": null,
      "metadata": {
        "id": "d5neS16vtKNV"
      },
      "outputs": [],
      "source": [
        "X = dt_f.drop(['Class/ASD','result'],axis=1)\n",
        "y = dt_f['Class/ASD']\n",
        "from sklearn.model_selection import train_test_split\n",
        "X_train, X_test, y_train, y_test = train_test_split(X,y,train_size=0.80,random_state=True)\n",
        "X_train.head()"
      ]
    },
    {
      "cell_type": "code",
      "execution_count": null,
      "metadata": {
        "id": "9PzB6o9ywZXj"
      },
      "outputs": [],
      "source": [
        "X_test.head()"
      ]
    },
    {
      "cell_type": "code",
      "execution_count": null,
      "metadata": {
        "id": "EuUDeiivz6r1"
      },
      "outputs": [],
      "source": [
        "print(f\"Train: {X_train.shape}, {y_train.shape}\")\n",
        "print(f\"Test: {X_test.shape}, {y_test.shape}\")"
      ]
    },
    {
      "cell_type": "code",
      "execution_count": null,
      "metadata": {
        "id": "FmCZZeOvtV8V"
      },
      "outputs": [],
      "source": [
        "from sklearn.neural_network import MLPClassifier\n",
        "from sklearn.tree import DecisionTreeClassifier\n"
      ]
    },
    {
      "cell_type": "code",
      "execution_count": null,
      "metadata": {
        "id": "jqsPGVUcu0qt"
      },
      "outputs": [],
      "source": [
        "from sklearn.model_selection import cross_val_score"
      ]
    },
    {
      "cell_type": "code",
      "execution_count": null,
      "metadata": {
        "id": "xHQ4INzZt97E"
      },
      "outputs": [],
      "source": [
        "model1 = MLPClassifier(alpha=1, max_iter=300)\n",
        "model1.fit(X_train.astype(float), y_train.astype(float))\n",
        "cross_val_score(model1, X_train, y_train, cv=4, scoring='accuracy')"
      ]
    },
    {
      "cell_type": "code",
      "execution_count": null,
      "metadata": {
        "id": "QNJTBAFovZIa"
      },
      "outputs": [],
      "source": [
        "model2 = DecisionTreeClassifier(max_depth=5)\n",
        "model2.fit(X_train.astype(float), y_train.astype(float))\n",
        "cross_val_score(model2, X_train, y_train, cv=4, scoring='accuracy')"
      ]
    },
    {
      "cell_type": "code",
      "execution_count": null,
      "metadata": {
        "id": "A8sjz-QKyynG"
      },
      "outputs": [],
      "source": [
        "from sklearn.metrics import accuracy_score, confusion_matrix, classification_report\n"
      ]
    },
    {
      "cell_type": "code",
      "execution_count": null,
      "metadata": {
        "id": "I5l09Y-lwxCS"
      },
      "outputs": [],
      "source": [
        "preds1 = model1.predict(X_test)\n",
        "print(f\"Accuracy on train data by MLP Classifier: {accuracy_score(y_train, model1.predict(X_train))*100}\")\n",
        "\n",
        "print(f\"Accuracy on test data by MLP Classifier: {accuracy_score(y_test, preds1)*100}\")\n",
        "\n",
        "cf_matrix = confusion_matrix(y_test, preds1)\n",
        "plt.figure(figsize=(10,10))\n",
        "sns.heatmap(cf_matrix, annot=True)\n",
        "plt.title(\"Confusion Matrix for MLP Classifier on Test Data\")\n",
        "plt.show()\n",
        "#Showing Precesion, Recall and F1 score\n",
        "print(classification_report(y_test, preds1))"
      ]
    },
    {
      "cell_type": "code",
      "source": [
        "preds1"
      ],
      "metadata": {
        "id": "eygXiZrco6bI"
      },
      "execution_count": null,
      "outputs": []
    },
    {
      "cell_type": "code",
      "source": [
        "from sklearn.metrics import mean_squared_error\n",
        "from math import sqrt\n",
        "\n",
        "#calculate RMSE\n",
        "sqrt(mean_squared_error(y_test, preds1))"
      ],
      "metadata": {
        "id": "L7xDNxjupeGz"
      },
      "execution_count": null,
      "outputs": []
    },
    {
      "cell_type": "code",
      "execution_count": null,
      "metadata": {
        "id": "I67uT9JmvO_W"
      },
      "outputs": [],
      "source": [
        "preds3 = model2.predict(X_test)\n",
        "print(f\"Accuracy on train data by Decision Tree Classifier: {accuracy_score(y_train, model1.predict(X_train))*100}\")\n",
        "\n",
        "print(f\"Accuracy on test data by Decision Tree Classifier: {accuracy_score(y_test, preds3)*100}\")\n",
        "\n",
        "cf_matrix = confusion_matrix(y_test, preds3)\n",
        "plt.figure(figsize=(10,10))\n",
        "sns.heatmap(cf_matrix, annot=True)\n",
        "plt.title(\"Confusion Matrix for MLP Classifier on Test Data\")\n",
        "plt.show()\n",
        "#Showing Precesion, Recall and F1 score\n",
        "print(classification_report(y_test, preds3))"
      ]
    },
    {
      "cell_type": "code",
      "source": [
        "from sklearn.metrics import mean_squared_error\n",
        "from math import sqrt\n",
        "\n",
        "#calculate RMSE\n",
        "sqrt(mean_squared_error(y_test, preds3))"
      ],
      "metadata": {
        "id": "756ZdHd8qrtw"
      },
      "execution_count": null,
      "outputs": []
    },
    {
      "cell_type": "code",
      "execution_count": null,
      "metadata": {
        "id": "wOTEyHn0d-7I"
      },
      "outputs": [],
      "source": [
        "from sklearn.ensemble import AdaBoostClassifier\n",
        "abc = AdaBoostClassifier()\n",
        "abc.fit(X_train, y_train)\n",
        "y_pred_abc = abc.predict(X_test)\n"
      ]
    },
    {
      "cell_type": "code",
      "execution_count": null,
      "metadata": {
        "id": "Nv7zLGXceKcP"
      },
      "outputs": [],
      "source": [
        "from sklearn.metrics import confusion_matrix, accuracy_score\n",
        "cm = confusion_matrix(y_test, y_pred_abc)\n",
        "print (cm)\n",
        "acc_abc = accuracy_score(y_test, y_pred_abc)\n",
        "print (acc_abc)"
      ]
    },
    {
      "cell_type": "code",
      "source": [
        "from sklearn.linear_model import LogisticRegression"
      ],
      "metadata": {
        "id": "6RclYoFimU4u"
      },
      "execution_count": null,
      "outputs": []
    },
    {
      "cell_type": "code",
      "source": [
        "model3 =  LogisticRegression()\n",
        "model3.fit(X_train.astype(float), y_train.astype(float))\n",
        "cross_val_score(model3, X_train, y_train, cv=4, scoring='accuracy')"
      ],
      "metadata": {
        "id": "HOosJhiMmYQG"
      },
      "execution_count": null,
      "outputs": []
    },
    {
      "cell_type": "code",
      "source": [
        "preds2 = model3.predict(X_test)\n",
        "print(f\"Accuracy on train data by Logistic Regression: {accuracy_score(y_train, model3.predict(X_train))*100}\")\n",
        "\n",
        "print(f\"Accuracy on test data by Logistic Regression: {accuracy_score(y_test, preds2)*100}\")\n",
        "\n",
        "cf_matrix = confusion_matrix(y_test, preds2)\n",
        "plt.figure(figsize=(10,10))\n",
        "sns.heatmap(cf_matrix, annot=True)\n",
        "plt.title(\"Confusion Matrix for Logistic Regression on Test Data\")\n",
        "plt.show()\n",
        "#Showing Precesion, Recall and F1 score\n",
        "print(classification_report(y_test, preds2))"
      ],
      "metadata": {
        "id": "ipFQzpGHmxwe"
      },
      "execution_count": null,
      "outputs": []
    },
    {
      "cell_type": "code",
      "source": [
        "from sklearn.metrics import mean_squared_error\n",
        "from math import sqrt\n",
        "\n",
        "#calculate RMSE\n",
        "sqrt(mean_squared_error(y_test, preds2))"
      ],
      "metadata": {
        "id": "oXQhE8IQq1Gf"
      },
      "execution_count": null,
      "outputs": []
    },
    {
      "cell_type": "markdown",
      "metadata": {
        "id": "JstZZ5S4AvJq"
      },
      "source": [
        "Train the model means create the model.\n",
        "\n",
        "Test the model means test the accuracy of the model."
      ]
    }
  ],
  "metadata": {
    "colab": {
      "provenance": []
    },
    "kernelspec": {
      "display_name": "Python 3",
      "name": "python3"
    },
    "language_info": {
      "name": "python"
    }
  },
  "nbformat": 4,
  "nbformat_minor": 0
}